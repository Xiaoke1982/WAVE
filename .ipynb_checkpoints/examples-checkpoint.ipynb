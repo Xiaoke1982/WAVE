{
 "cells": [
  {
   "cell_type": "markdown",
   "metadata": {},
   "source": [
    "## Examples of WAVE Ensemble Model Fitting  \n",
    "\n",
    "This notebook illustrates examples of using WAVE. "
   ]
  },
  {
   "cell_type": "markdown",
   "metadata": {},
   "source": [
    "### 1. Import WAVE and other modules\n",
    "\n",
    "The implementation of **WAVE class** is included in the **wave.py** file. To import WAVE class, the wave.py needs to be saved in the same directory of this notebook. WAVE class is built based on two other modlues: **numpy** and **sklearn**. These two modules are imported at the beginning of the wave.py. When we import WAVE in this notebook, numpy and sklearn are automatically imported as well. We also need to import **pandas** for data processing."
   ]
  },
  {
   "cell_type": "code",
   "execution_count": 1,
   "metadata": {
    "collapsed": false
   },
   "outputs": [],
   "source": [
    "# import wave\n",
    "from wave import *\n",
    "\n",
    "# import pandas\n",
    "import pandas as pd"
   ]
  },
  {
   "cell_type": "markdown",
   "metadata": {},
   "source": [
    "A simple description of WAVE class can be found by running the following cell:"
   ]
  },
  {
   "cell_type": "code",
   "execution_count": 2,
   "metadata": {
    "collapsed": true
   },
   "outputs": [],
   "source": [
    "?WAVE()"
   ]
  },
  {
   "cell_type": "markdown",
   "metadata": {
    "collapsed": true
   },
   "source": [
    "### 2. Example: Fit a Weight-Adjusted CERP (WACERP) Ensemble on Imprinting Data \n",
    "\n",
    "Weight-Adjusted CERP is an ensemble method designed for high-dimensional data. It applies WAVE to the CERP base ensemble. This example uses a high dimensional data called imprinting data set. The imprinting data set is included in the repo as imp.txt. "
   ]
  },
  {
   "cell_type": "markdown",
   "metadata": {
    "collapsed": true
   },
   "source": [
    "**Load up the imprinting data as a data frame:**"
   ]
  },
  {
   "cell_type": "code",
   "execution_count": 3,
   "metadata": {
    "collapsed": true
   },
   "outputs": [],
   "source": [
    "imp = pd.read_csv(\"imp.txt\", sep=\" \")"
   ]
  },
  {
   "cell_type": "markdown",
   "metadata": {},
   "source": [
    "**Check the first 5 instances of the imprinting data:**"
   ]
  },
  {
   "cell_type": "code",
   "execution_count": 4,
   "metadata": {
    "collapsed": false
   },
   "outputs": [
    {
     "data": {
      "text/html": [
       "<div>\n",
       "<table border=\"1\" class=\"dataframe\">\n",
       "  <thead>\n",
       "    <tr style=\"text-align: right;\">\n",
       "      <th></th>\n",
       "      <th>SIMREP.UPSS5</th>\n",
       "      <th>SIMREP.UPSC5</th>\n",
       "      <th>SIMREP.DNSC5</th>\n",
       "      <th>SIMREP.DNSS5</th>\n",
       "      <th>SIMREP.DNES5</th>\n",
       "      <th>SIMREP.DNEC5</th>\n",
       "      <th>SIMREP.BDYS10</th>\n",
       "      <th>SIMREP.BDYC10</th>\n",
       "      <th>SIMREP.UPSS10</th>\n",
       "      <th>SIMREP.UPSC10</th>\n",
       "      <th>...</th>\n",
       "      <th>s14</th>\n",
       "      <th>s15</th>\n",
       "      <th>s16</th>\n",
       "      <th>s17</th>\n",
       "      <th>s18</th>\n",
       "      <th>s19</th>\n",
       "      <th>s20</th>\n",
       "      <th>m1</th>\n",
       "      <th>m2</th>\n",
       "      <th>Y</th>\n",
       "    </tr>\n",
       "  </thead>\n",
       "  <tbody>\n",
       "    <tr>\n",
       "      <th>0</th>\n",
       "      <td>0</td>\n",
       "      <td>0</td>\n",
       "      <td>2</td>\n",
       "      <td>66</td>\n",
       "      <td>34</td>\n",
       "      <td>1</td>\n",
       "      <td>66</td>\n",
       "      <td>2</td>\n",
       "      <td>0</td>\n",
       "      <td>0</td>\n",
       "      <td>...</td>\n",
       "      <td>0</td>\n",
       "      <td>3</td>\n",
       "      <td>2</td>\n",
       "      <td>2</td>\n",
       "      <td>0</td>\n",
       "      <td>0</td>\n",
       "      <td>0</td>\n",
       "      <td>0</td>\n",
       "      <td>0</td>\n",
       "      <td>1</td>\n",
       "    </tr>\n",
       "    <tr>\n",
       "      <th>1</th>\n",
       "      <td>0</td>\n",
       "      <td>0</td>\n",
       "      <td>0</td>\n",
       "      <td>0</td>\n",
       "      <td>0</td>\n",
       "      <td>0</td>\n",
       "      <td>629</td>\n",
       "      <td>4</td>\n",
       "      <td>66</td>\n",
       "      <td>2</td>\n",
       "      <td>...</td>\n",
       "      <td>0</td>\n",
       "      <td>0</td>\n",
       "      <td>1</td>\n",
       "      <td>1</td>\n",
       "      <td>2</td>\n",
       "      <td>0</td>\n",
       "      <td>0</td>\n",
       "      <td>3</td>\n",
       "      <td>1</td>\n",
       "      <td>1</td>\n",
       "    </tr>\n",
       "    <tr>\n",
       "      <th>2</th>\n",
       "      <td>0</td>\n",
       "      <td>0</td>\n",
       "      <td>1</td>\n",
       "      <td>41</td>\n",
       "      <td>275</td>\n",
       "      <td>2</td>\n",
       "      <td>325</td>\n",
       "      <td>5</td>\n",
       "      <td>283</td>\n",
       "      <td>2</td>\n",
       "      <td>...</td>\n",
       "      <td>2</td>\n",
       "      <td>0</td>\n",
       "      <td>1</td>\n",
       "      <td>1</td>\n",
       "      <td>0</td>\n",
       "      <td>0</td>\n",
       "      <td>1</td>\n",
       "      <td>0</td>\n",
       "      <td>0</td>\n",
       "      <td>1</td>\n",
       "    </tr>\n",
       "    <tr>\n",
       "      <th>3</th>\n",
       "      <td>0</td>\n",
       "      <td>0</td>\n",
       "      <td>0</td>\n",
       "      <td>0</td>\n",
       "      <td>40</td>\n",
       "      <td>1</td>\n",
       "      <td>0</td>\n",
       "      <td>0</td>\n",
       "      <td>0</td>\n",
       "      <td>0</td>\n",
       "      <td>...</td>\n",
       "      <td>3</td>\n",
       "      <td>0</td>\n",
       "      <td>0</td>\n",
       "      <td>0</td>\n",
       "      <td>1</td>\n",
       "      <td>0</td>\n",
       "      <td>0</td>\n",
       "      <td>0</td>\n",
       "      <td>0</td>\n",
       "      <td>1</td>\n",
       "    </tr>\n",
       "    <tr>\n",
       "      <th>4</th>\n",
       "      <td>0</td>\n",
       "      <td>0</td>\n",
       "      <td>0</td>\n",
       "      <td>0</td>\n",
       "      <td>0</td>\n",
       "      <td>0</td>\n",
       "      <td>0</td>\n",
       "      <td>0</td>\n",
       "      <td>0</td>\n",
       "      <td>0</td>\n",
       "      <td>...</td>\n",
       "      <td>1</td>\n",
       "      <td>0</td>\n",
       "      <td>0</td>\n",
       "      <td>0</td>\n",
       "      <td>0</td>\n",
       "      <td>0</td>\n",
       "      <td>0</td>\n",
       "      <td>1</td>\n",
       "      <td>7</td>\n",
       "      <td>1</td>\n",
       "    </tr>\n",
       "  </tbody>\n",
       "</table>\n",
       "<p>5 rows × 1255 columns</p>\n",
       "</div>"
      ],
      "text/plain": [
       "   SIMREP.UPSS5  SIMREP.UPSC5  SIMREP.DNSC5  SIMREP.DNSS5  SIMREP.DNES5  \\\n",
       "0             0             0             2            66            34   \n",
       "1             0             0             0             0             0   \n",
       "2             0             0             1            41           275   \n",
       "3             0             0             0             0            40   \n",
       "4             0             0             0             0             0   \n",
       "\n",
       "   SIMREP.DNEC5  SIMREP.BDYS10  SIMREP.BDYC10  SIMREP.UPSS10  SIMREP.UPSC10  \\\n",
       "0             1             66              2              0              0   \n",
       "1             0            629              4             66              2   \n",
       "2             2            325              5            283              2   \n",
       "3             1              0              0              0              0   \n",
       "4             0              0              0              0              0   \n",
       "\n",
       "  ...  s14  s15  s16  s17  s18  s19  s20  m1  m2  Y  \n",
       "0 ...    0    3    2    2    0    0    0   0   0  1  \n",
       "1 ...    0    0    1    1    2    0    0   3   1  1  \n",
       "2 ...    2    0    1    1    0    0    1   0   0  1  \n",
       "3 ...    3    0    0    0    1    0    0   0   0  1  \n",
       "4 ...    1    0    0    0    0    0    0   1   7  1  \n",
       "\n",
       "[5 rows x 1255 columns]"
      ]
     },
     "execution_count": 4,
     "metadata": {},
     "output_type": "execute_result"
    }
   ],
   "source": [
    "imp.head()"
   ]
  },
  {
   "cell_type": "markdown",
   "metadata": {},
   "source": [
    "**The imprinting data has 131 instances, each of which has 1254 features. The column \"Y\" denotes the target variable, which can take either 0 or 1. **"
   ]
  },
  {
   "cell_type": "code",
   "execution_count": 5,
   "metadata": {
    "collapsed": false
   },
   "outputs": [
    {
     "data": {
      "text/plain": [
       "(131, 1255)"
      ]
     },
     "execution_count": 5,
     "metadata": {},
     "output_type": "execute_result"
    }
   ],
   "source": [
    "imp.shape"
   ]
  },
  {
   "cell_type": "markdown",
   "metadata": {},
   "source": [
    "**Randomly split the data set into training data and testing data. The testing data is set to be about 10% of the whole data set.**"
   ]
  },
  {
   "cell_type": "code",
   "execution_count": 6,
   "metadata": {
    "collapsed": false
   },
   "outputs": [],
   "source": [
    "# import the method from sklearn for splitting data set into training and testing data sets\n",
    "from sklearn.model_selection import train_test_split\n",
    "\n",
    "# specify the name of features' columns \n",
    "xcols = [col for col in imp.columns if col not in [\"Y\"]]\n",
    "\n",
    "# extract features and targets from the imprinting data\n",
    "features = imp[xcols].values\n",
    "targets = imp[\"Y\"].values\n",
    "\n",
    "\n",
    "train_X, test_X, train_y, test_y = train_test_split(features, targets,\n",
    "                                                    test_size = 0.1,\n",
    "                                                    random_state = 817)"
   ]
  },
  {
   "cell_type": "code",
   "execution_count": 7,
   "metadata": {
    "collapsed": false
   },
   "outputs": [
    {
     "name": "stdout",
     "output_type": "stream",
     "text": [
      "the number of instances in training data set is 117\n",
      "the number of instances in testing data set is 14\n"
     ]
    }
   ],
   "source": [
    "print (\"the number of instances in training data set is {}\".format(len(train_X)))\n",
    "print (\"the number of instances in testing data set is {}\".format(len(test_X)))"
   ]
  },
  {
   "cell_type": "code",
   "execution_count": 8,
   "metadata": {
    "collapsed": false
   },
   "outputs": [
    {
     "name": "stdout",
     "output_type": "stream",
     "text": [
      "labels of the instances in testing set are:\n",
      "[1 1 0 0 0 0 0 1 0 0 0 0 1 1]\n"
     ]
    }
   ],
   "source": [
    "print (\"labels of the instances in testing set are:\")\n",
    "print (test_y)"
   ]
  },
  {
   "cell_type": "markdown",
   "metadata": {
    "collapsed": false
   },
   "source": [
    "**Initialize the Weight-Adjusted CERP (WACERP) model:**"
   ]
  },
  {
   "cell_type": "code",
   "execution_count": 9,
   "metadata": {
    "collapsed": false
   },
   "outputs": [],
   "source": [
    "# In the initialization, we specify the base ensemble to be cerp.\n",
    "# Also, weset the ensemble size to be 10\n",
    "wacerp = WAVE(base_ensemble=\"cerp\", ensemble_size=10)"
   ]
  },
  {
   "cell_type": "markdown",
   "metadata": {},
   "source": [
    "**Train the WACERP model:**"
   ]
  },
  {
   "cell_type": "code",
   "execution_count": 10,
   "metadata": {
    "collapsed": false
   },
   "outputs": [],
   "source": [
    "wacerp.fit(train_X, train_y)"
   ]
  },
  {
   "cell_type": "markdown",
   "metadata": {},
   "source": [
    "After the model is trained, we can look into base classifiers and corresponding weights using methods in WAVE class as follows:  \n",
    "** Get base classfiers:**"
   ]
  },
  {
   "cell_type": "code",
   "execution_count": 11,
   "metadata": {
    "collapsed": false
   },
   "outputs": [
    {
     "data": {
      "text/plain": [
       "DecisionTreeClassifier(class_weight=None, criterion='gini', max_depth=None,\n",
       "            max_features=None, max_leaf_nodes=None,\n",
       "            min_impurity_split=1e-07, min_samples_leaf=1,\n",
       "            min_samples_split=5, min_weight_fraction_leaf=0.0,\n",
       "            presort=False, random_state=None, splitter='best')"
      ]
     },
     "execution_count": 11,
     "metadata": {},
     "output_type": "execute_result"
    }
   ],
   "source": [
    "# call get_base_classifiers() to return a list of base classifiers\n",
    "base_classifiers = wacerp.get_base_classifiers()\n",
    "\n",
    "# the first base classifier in the list of base classifiers\n",
    "base_classifiers[0]"
   ]
  },
  {
   "cell_type": "markdown",
   "metadata": {},
   "source": [
    "**Get weights of base classifiers:**"
   ]
  },
  {
   "cell_type": "code",
   "execution_count": 12,
   "metadata": {
    "collapsed": false
   },
   "outputs": [
    {
     "name": "stdout",
     "output_type": "stream",
     "text": [
      "[[ 0.11053991]\n",
      " [ 0.0972806 ]\n",
      " [ 0.11053991]\n",
      " [ 0.07746206]\n",
      " [ 0.10398347]\n",
      " [ 0.11690922]\n",
      " [ 0.08416423]\n",
      " [ 0.10407805]\n",
      " [ 0.09096449]\n",
      " [ 0.10407805]]\n"
     ]
    }
   ],
   "source": [
    "# call get_weights() method to get weight vector of base classifiers\n",
    "weights = wacerp.get_weights()\n",
    "\n",
    "# print the weight vector.\n",
    "# for example, 0.1105 denotes the weight for the first base classifier\n",
    "print (weights)"
   ]
  },
  {
   "cell_type": "markdown",
   "metadata": {},
   "source": [
    "**Make predictions on testing set:**  \n",
    "The return type can be either \"prob\" or \"label\""
   ]
  },
  {
   "cell_type": "code",
   "execution_count": 13,
   "metadata": {
    "collapsed": false
   },
   "outputs": [
    {
     "data": {
      "text/plain": [
       "[{0: 0.27216620086202475, 1: 0.72783379913797541},\n",
       " {0: 0.38328482596071134, 1: 0.61671517403928888},\n",
       " {0: 0.77255086789426708, 1: 0.22744913210573314},\n",
       " {0: 0.68130398450060037, 1: 0.31869601549939991},\n",
       " {0: 0.89592194724366592, 1: 0.1040780527563344},\n",
       " {0: 0.82525733896014641, 1: 0.17474266103985386},\n",
       " {0: 0.91583577197505217, 1: 0.084164228024948107},\n",
       " {0: 0.22089269302597295, 1: 0.77910730697402719},\n",
       " {0: 0.90903550757690588, 1: 0.090964492423094401},\n",
       " {0: 0.39615807834974548, 1: 0.60384192165025463},\n",
       " {0: 0.68139856634996387, 1: 0.31860143365003635},\n",
       " {0: 0.79212628545790376, 1: 0.20787371454209649},\n",
       " {0: 0.1040780527563344, 1: 0.89592194724366592},\n",
       " {0: 0.61025331680889228, 1: 0.38974668319110795}]"
      ]
     },
     "execution_count": 13,
     "metadata": {},
     "output_type": "execute_result"
    }
   ],
   "source": [
    "# when return_type is set to be \"prob\", \n",
    "# the prediction of each testing instance is returned as a python dictionary consisting of probabilities of each label \n",
    "# for the first instance in testing set, the probability of label 0 is 0.272, and the probablitiy of label 1 is 0.728\n",
    "wacerp.predict(test_X, return_type=\"prob\")"
   ]
  },
  {
   "cell_type": "code",
   "execution_count": 14,
   "metadata": {
    "collapsed": false
   },
   "outputs": [
    {
     "data": {
      "text/plain": [
       "[1, 1, 0, 0, 0, 0, 0, 1, 0, 1, 0, 0, 1, 0]"
      ]
     },
     "execution_count": 14,
     "metadata": {},
     "output_type": "execute_result"
    }
   ],
   "source": [
    "# when return_type is set to be \"label\", \n",
    "# predictions of testing test is returned as a list of predicted labels\n",
    "# for example, the first instance in testing set is predicted as label 1\n",
    "wacerp.predict(test_X, return_type=\"label\")"
   ]
  },
  {
   "cell_type": "markdown",
   "metadata": {},
   "source": [
    "**Accuracy on testing set:**"
   ]
  },
  {
   "cell_type": "code",
   "execution_count": 15,
   "metadata": {
    "collapsed": false
   },
   "outputs": [
    {
     "name": "stdout",
     "output_type": "stream",
     "text": [
      "accuracy on testing set is 0.8571428571428571\n"
     ]
    }
   ],
   "source": [
    "#one way to compute accuracy is to compare the predictions with test_y\n",
    "predictions = wacerp.predict(test_X)\n",
    "accuracy = np.mean(predictions == test_y)\n",
    "print (\"accuracy on testing set is {}\".format(accuracy))"
   ]
  },
  {
   "cell_type": "code",
   "execution_count": 18,
   "metadata": {
    "collapsed": false
   },
   "outputs": [
    {
     "name": "stdout",
     "output_type": "stream",
     "text": [
      "accuracy on testing set is 0.8571428571428571\n"
     ]
    }
   ],
   "source": [
    "# another way to compute accuracy is call accuracy() method in WAVE class directly\n",
    "accuracy = wacerp.accuracy(test_X, test_y)\n",
    "print (\"accuracy on testing set is {}\".format(accuracy))"
   ]
  },
  {
   "cell_type": "markdown",
   "metadata": {
    "collapsed": true
   },
   "source": [
    "**Control base tree complexity:**  \n",
    "When initializing the WACERP model, we can control the complexitiy of each base tree classifier by specifying the min_samples_split_cerp argument. This argument the minimum number of samples required to split an internal node for trees in CERP, the default value is 5. Let's fit another WACERP model."
   ]
  },
  {
   "cell_type": "code",
   "execution_count": 17,
   "metadata": {
    "collapsed": false
   },
   "outputs": [
    {
     "name": "stdout",
     "output_type": "stream",
     "text": [
      "accuracy by another WACERP on testing set is 0.9285714285714286\n"
     ]
    }
   ],
   "source": [
    "#initialize another WACERP model that has ensemble size 20, and set min_samples_split_cerp to be 10\n",
    "wacerp2 = WAVE(base_ensemble=\"cerp\", ensemble_size=20, min_samples_split_cerp=10)\n",
    "\n",
    "# train the model\n",
    "wacerp2.fit(train_X, train_y)\n",
    "\n",
    "# compute the accuracy on testing set by this model\n",
    "accuracy = wacerp2.accuracy(test_X, test_y)\n",
    "\n",
    "#print the accuracy\n",
    "print (\"accuracy by another WACERP on testing set is {}\".format(accuracy))"
   ]
  },
  {
   "cell_type": "markdown",
   "metadata": {},
   "source": [
    "### 3. Example: Fit a Weight-Adjusted Random Forest (WARF) on Breast Cancer Dataset\n",
    "\n",
    "Weight-Adjusted Random Forest is an ensemble method that applies WAVE to the Random Forest base ensemble. This example fit WARF models on breast cancer wisconsin dataset. "
   ]
  },
  {
   "cell_type": "markdown",
   "metadata": {},
   "source": [
    "**Load the breast cancer dataset from sklearn:**"
   ]
  },
  {
   "cell_type": "code",
   "execution_count": 2,
   "metadata": {
    "collapsed": true
   },
   "outputs": [],
   "source": [
    "# load dataset from sklearn\n",
    "from sklearn.datasets import load_breast_cancer\n",
    "\n",
    "# extract features and targets separately by specifying return_X_y to be True\n",
    "features, targets = load_breast_cancer(return_X_y = True)"
   ]
  },
  {
   "cell_type": "markdown",
   "metadata": {},
   "source": [
    "The dataset has 569 instances, each of which has 30 features. "
   ]
  },
  {
   "cell_type": "code",
   "execution_count": 3,
   "metadata": {
    "collapsed": false
   },
   "outputs": [
    {
     "data": {
      "text/plain": [
       "(569, 30)"
      ]
     },
     "execution_count": 3,
     "metadata": {},
     "output_type": "execute_result"
    }
   ],
   "source": [
    "features.shape"
   ]
  },
  {
   "cell_type": "markdown",
   "metadata": {},
   "source": [
    "The target value is either 0 or 1."
   ]
  },
  {
   "cell_type": "code",
   "execution_count": 47,
   "metadata": {
    "collapsed": false
   },
   "outputs": [
    {
     "data": {
      "text/plain": [
       "array([0, 1])"
      ]
     },
     "execution_count": 47,
     "metadata": {},
     "output_type": "execute_result"
    }
   ],
   "source": [
    "np.unique(targets)"
   ]
  },
  {
   "cell_type": "markdown",
   "metadata": {},
   "source": [
    "**Randomly split dataset into training and testing datasets:**"
   ]
  },
  {
   "cell_type": "code",
   "execution_count": 5,
   "metadata": {
    "collapsed": true
   },
   "outputs": [],
   "source": [
    "# import the method from sklearn for splitting data set into training and testing data sets\n",
    "from sklearn.model_selection import train_test_split\n",
    "\n",
    "# the testing set is about 20% of the whole dataset\n",
    "train_X, test_X, train_y, test_y = train_test_split(features, targets,\n",
    "                                                    test_size = 0.2,\n",
    "                                                    random_state = 817)"
   ]
  },
  {
   "cell_type": "markdown",
   "metadata": {},
   "source": [
    "**Initialize a WARF that the ensemble size is 15:**"
   ]
  },
  {
   "cell_type": "code",
   "execution_count": 37,
   "metadata": {
    "collapsed": true
   },
   "outputs": [],
   "source": [
    "warf1 = WAVE(base_ensemble=\"rf\", ensemble_size=15)"
   ]
  },
  {
   "cell_type": "markdown",
   "metadata": {},
   "source": [
    "** Train the WARF:**"
   ]
  },
  {
   "cell_type": "code",
   "execution_count": 38,
   "metadata": {
    "collapsed": false
   },
   "outputs": [],
   "source": [
    "warf1.fit(train_X, train_y)"
   ]
  },
  {
   "cell_type": "markdown",
   "metadata": {},
   "source": [
    "**Look into the weight vector of base classifiers:**"
   ]
  },
  {
   "cell_type": "code",
   "execution_count": 40,
   "metadata": {
    "collapsed": false
   },
   "outputs": [
    {
     "name": "stdout",
     "output_type": "stream",
     "text": [
      "[[ 0.06678138]\n",
      " [ 0.06636731]\n",
      " [ 0.06472468]\n",
      " [ 0.07007673]\n",
      " [ 0.07091804]\n",
      " [ 0.07008807]\n",
      " [ 0.07009323]\n",
      " [ 0.06885567]\n",
      " [ 0.06760836]\n",
      " [ 0.06470502]\n",
      " [ 0.06180222]\n",
      " [ 0.06470855]\n",
      " [ 0.07050676]\n",
      " [ 0.05972108]\n",
      " [ 0.06304291]]\n"
     ]
    }
   ],
   "source": [
    "print (warf1.get_weights())"
   ]
  },
  {
   "cell_type": "markdown",
   "metadata": {},
   "source": [
    "**Predictions on testing set:**"
   ]
  },
  {
   "cell_type": "code",
   "execution_count": 41,
   "metadata": {
    "collapsed": false
   },
   "outputs": [
    {
     "name": "stdout",
     "output_type": "stream",
     "text": [
      "[1, 1, 0, 1, 0, 0, 1, 1, 0, 1, 0, 0, 1, 1, 1, 0, 0, 1, 0, 1, 1, 0, 0, 0, 1, 1, 0, 1, 1, 1, 1, 1, 0, 0, 0, 0, 1, 1, 1, 1, 0, 1, 0, 1, 0, 1, 1, 1, 1, 1, 1, 1, 1, 1, 1, 0, 0, 0, 1, 1, 1, 1, 0, 1, 1, 1, 1, 1, 1, 1, 0, 1, 1, 1, 0, 0, 0, 0, 0, 1, 0, 0, 0, 1, 0, 1, 0, 1, 0, 1, 1, 1, 0, 1, 0, 0, 1, 0, 0, 0, 0, 1, 0, 1, 1, 1, 0, 1, 1, 1, 0, 1, 0, 0]\n"
     ]
    }
   ],
   "source": [
    "print (warf1.predict(test_X))"
   ]
  },
  {
   "cell_type": "markdown",
   "metadata": {},
   "source": [
    "**Accuracy on testing set:**"
   ]
  },
  {
   "cell_type": "code",
   "execution_count": 42,
   "metadata": {
    "collapsed": false
   },
   "outputs": [
    {
     "data": {
      "text/plain": [
       "0.93859649122807021"
      ]
     },
     "execution_count": 42,
     "metadata": {},
     "output_type": "execute_result"
    }
   ],
   "source": [
    "warf1.accuracy(test_X, test_y)"
   ]
  },
  {
   "cell_type": "markdown",
   "metadata": {},
   "source": []
  },
  {
   "cell_type": "code",
   "execution_count": 43,
   "metadata": {
    "collapsed": true
   },
   "outputs": [],
   "source": [
    "warf2 = WAVE(base_ensemble=\"rf\", ensemble_size=100)"
   ]
  },
  {
   "cell_type": "code",
   "execution_count": 44,
   "metadata": {
    "collapsed": true
   },
   "outputs": [],
   "source": [
    "warf2.fit(train_X, train_y)"
   ]
  },
  {
   "cell_type": "code",
   "execution_count": 45,
   "metadata": {
    "collapsed": false
   },
   "outputs": [
    {
     "data": {
      "text/plain": [
       "0.94736842105263153"
      ]
     },
     "execution_count": 45,
     "metadata": {},
     "output_type": "execute_result"
    }
   ],
   "source": [
    "warf2.accuracy(test_X, test_y)"
   ]
  },
  {
   "cell_type": "code",
   "execution_count": null,
   "metadata": {
    "collapsed": true
   },
   "outputs": [],
   "source": []
  },
  {
   "cell_type": "code",
   "execution_count": null,
   "metadata": {
    "collapsed": true
   },
   "outputs": [],
   "source": []
  }
 ],
 "metadata": {
  "kernelspec": {
   "display_name": "Python [default]",
   "language": "python",
   "name": "python3"
  },
  "language_info": {
   "codemirror_mode": {
    "name": "ipython",
    "version": 3
   },
   "file_extension": ".py",
   "mimetype": "text/x-python",
   "name": "python",
   "nbconvert_exporter": "python",
   "pygments_lexer": "ipython3",
   "version": "3.5.2"
  }
 },
 "nbformat": 4,
 "nbformat_minor": 2
}
