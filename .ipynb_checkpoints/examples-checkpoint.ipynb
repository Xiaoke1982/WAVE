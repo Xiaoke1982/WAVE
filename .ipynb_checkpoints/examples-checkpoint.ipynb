{
 "cells": [
  {
   "cell_type": "markdown",
   "metadata": {},
   "source": [
    "## Examples of WAVE Ensemble Model Fitting  \n",
    "\n",
    "This notebook illustrates examples of using WAVE. "
   ]
  },
  {
   "cell_type": "markdown",
   "metadata": {},
   "source": [
    "### 1. Import WAVE and other modules\n",
    "\n",
    "The implementation of **WAVE class** is included in the **wave.py** file. To import WAVE class, the wave.py needs to be saved in the same directory of this notebook. WAVE class is built based on two other modlues: **numpy** and **sklearn**. These two modules are imported at the beginning of the wave.py. When we import WAVE in this notebook, numpy and sklearn are automatically imported as well. We also need to import **pandas** for data processing."
   ]
  },
  {
   "cell_type": "code",
   "execution_count": 2,
   "metadata": {
    "collapsed": true
   },
   "outputs": [],
   "source": [
    "# import wave\n",
    "from wave import *\n",
    "\n",
    "# import pandas\n",
    "import pandas as pd"
   ]
  },
  {
   "cell_type": "markdown",
   "metadata": {},
   "source": [
    "A simple description of WAVE class can be found by running the following cell:"
   ]
  },
  {
   "cell_type": "code",
   "execution_count": 3,
   "metadata": {
    "collapsed": true
   },
   "outputs": [],
   "source": [
    "?WAVE()"
   ]
  },
  {
   "cell_type": "markdown",
   "metadata": {
    "collapsed": true
   },
   "source": [
    "### 2. Example: Fit a Weight-Adjusted CERP ensemble\n",
    "\n",
    "Weight-Adjusted CERP is an ensemble method designed for high-dimensional data that applies WAVE to the CERP base ensemble. This example uses a high dimensional data called imprinting data set. The imprinting data set is included in the repo as imp.txt. "
   ]
  },
  {
   "cell_type": "markdown",
   "metadata": {
    "collapsed": true
   },
   "source": [
    "Load up the imprinting data as a data frame:"
   ]
  },
  {
   "cell_type": "code",
   "execution_count": 4,
   "metadata": {
    "collapsed": true
   },
   "outputs": [],
   "source": [
    "imp = pd.read_csv(\"imp.txt\", sep=\" \")"
   ]
  },
  {
   "cell_type": "markdown",
   "metadata": {},
   "source": [
    "Check the first 5 instances of the imprinting data:"
   ]
  },
  {
   "cell_type": "code",
   "execution_count": 5,
   "metadata": {
    "collapsed": false
   },
   "outputs": [
    {
     "data": {
      "text/html": [
       "<div>\n",
       "<table border=\"1\" class=\"dataframe\">\n",
       "  <thead>\n",
       "    <tr style=\"text-align: right;\">\n",
       "      <th></th>\n",
       "      <th>SIMREP.UPSS5</th>\n",
       "      <th>SIMREP.UPSC5</th>\n",
       "      <th>SIMREP.DNSC5</th>\n",
       "      <th>SIMREP.DNSS5</th>\n",
       "      <th>SIMREP.DNES5</th>\n",
       "      <th>SIMREP.DNEC5</th>\n",
       "      <th>SIMREP.BDYS10</th>\n",
       "      <th>SIMREP.BDYC10</th>\n",
       "      <th>SIMREP.UPSS10</th>\n",
       "      <th>SIMREP.UPSC10</th>\n",
       "      <th>...</th>\n",
       "      <th>s14</th>\n",
       "      <th>s15</th>\n",
       "      <th>s16</th>\n",
       "      <th>s17</th>\n",
       "      <th>s18</th>\n",
       "      <th>s19</th>\n",
       "      <th>s20</th>\n",
       "      <th>m1</th>\n",
       "      <th>m2</th>\n",
       "      <th>Y</th>\n",
       "    </tr>\n",
       "  </thead>\n",
       "  <tbody>\n",
       "    <tr>\n",
       "      <th>0</th>\n",
       "      <td>0</td>\n",
       "      <td>0</td>\n",
       "      <td>2</td>\n",
       "      <td>66</td>\n",
       "      <td>34</td>\n",
       "      <td>1</td>\n",
       "      <td>66</td>\n",
       "      <td>2</td>\n",
       "      <td>0</td>\n",
       "      <td>0</td>\n",
       "      <td>...</td>\n",
       "      <td>0</td>\n",
       "      <td>3</td>\n",
       "      <td>2</td>\n",
       "      <td>2</td>\n",
       "      <td>0</td>\n",
       "      <td>0</td>\n",
       "      <td>0</td>\n",
       "      <td>0</td>\n",
       "      <td>0</td>\n",
       "      <td>1</td>\n",
       "    </tr>\n",
       "    <tr>\n",
       "      <th>1</th>\n",
       "      <td>0</td>\n",
       "      <td>0</td>\n",
       "      <td>0</td>\n",
       "      <td>0</td>\n",
       "      <td>0</td>\n",
       "      <td>0</td>\n",
       "      <td>629</td>\n",
       "      <td>4</td>\n",
       "      <td>66</td>\n",
       "      <td>2</td>\n",
       "      <td>...</td>\n",
       "      <td>0</td>\n",
       "      <td>0</td>\n",
       "      <td>1</td>\n",
       "      <td>1</td>\n",
       "      <td>2</td>\n",
       "      <td>0</td>\n",
       "      <td>0</td>\n",
       "      <td>3</td>\n",
       "      <td>1</td>\n",
       "      <td>1</td>\n",
       "    </tr>\n",
       "    <tr>\n",
       "      <th>2</th>\n",
       "      <td>0</td>\n",
       "      <td>0</td>\n",
       "      <td>1</td>\n",
       "      <td>41</td>\n",
       "      <td>275</td>\n",
       "      <td>2</td>\n",
       "      <td>325</td>\n",
       "      <td>5</td>\n",
       "      <td>283</td>\n",
       "      <td>2</td>\n",
       "      <td>...</td>\n",
       "      <td>2</td>\n",
       "      <td>0</td>\n",
       "      <td>1</td>\n",
       "      <td>1</td>\n",
       "      <td>0</td>\n",
       "      <td>0</td>\n",
       "      <td>1</td>\n",
       "      <td>0</td>\n",
       "      <td>0</td>\n",
       "      <td>1</td>\n",
       "    </tr>\n",
       "    <tr>\n",
       "      <th>3</th>\n",
       "      <td>0</td>\n",
       "      <td>0</td>\n",
       "      <td>0</td>\n",
       "      <td>0</td>\n",
       "      <td>40</td>\n",
       "      <td>1</td>\n",
       "      <td>0</td>\n",
       "      <td>0</td>\n",
       "      <td>0</td>\n",
       "      <td>0</td>\n",
       "      <td>...</td>\n",
       "      <td>3</td>\n",
       "      <td>0</td>\n",
       "      <td>0</td>\n",
       "      <td>0</td>\n",
       "      <td>1</td>\n",
       "      <td>0</td>\n",
       "      <td>0</td>\n",
       "      <td>0</td>\n",
       "      <td>0</td>\n",
       "      <td>1</td>\n",
       "    </tr>\n",
       "    <tr>\n",
       "      <th>4</th>\n",
       "      <td>0</td>\n",
       "      <td>0</td>\n",
       "      <td>0</td>\n",
       "      <td>0</td>\n",
       "      <td>0</td>\n",
       "      <td>0</td>\n",
       "      <td>0</td>\n",
       "      <td>0</td>\n",
       "      <td>0</td>\n",
       "      <td>0</td>\n",
       "      <td>...</td>\n",
       "      <td>1</td>\n",
       "      <td>0</td>\n",
       "      <td>0</td>\n",
       "      <td>0</td>\n",
       "      <td>0</td>\n",
       "      <td>0</td>\n",
       "      <td>0</td>\n",
       "      <td>1</td>\n",
       "      <td>7</td>\n",
       "      <td>1</td>\n",
       "    </tr>\n",
       "  </tbody>\n",
       "</table>\n",
       "<p>5 rows × 1255 columns</p>\n",
       "</div>"
      ],
      "text/plain": [
       "   SIMREP.UPSS5  SIMREP.UPSC5  SIMREP.DNSC5  SIMREP.DNSS5  SIMREP.DNES5  \\\n",
       "0             0             0             2            66            34   \n",
       "1             0             0             0             0             0   \n",
       "2             0             0             1            41           275   \n",
       "3             0             0             0             0            40   \n",
       "4             0             0             0             0             0   \n",
       "\n",
       "   SIMREP.DNEC5  SIMREP.BDYS10  SIMREP.BDYC10  SIMREP.UPSS10  SIMREP.UPSC10  \\\n",
       "0             1             66              2              0              0   \n",
       "1             0            629              4             66              2   \n",
       "2             2            325              5            283              2   \n",
       "3             1              0              0              0              0   \n",
       "4             0              0              0              0              0   \n",
       "\n",
       "  ...  s14  s15  s16  s17  s18  s19  s20  m1  m2  Y  \n",
       "0 ...    0    3    2    2    0    0    0   0   0  1  \n",
       "1 ...    0    0    1    1    2    0    0   3   1  1  \n",
       "2 ...    2    0    1    1    0    0    1   0   0  1  \n",
       "3 ...    3    0    0    0    1    0    0   0   0  1  \n",
       "4 ...    1    0    0    0    0    0    0   1   7  1  \n",
       "\n",
       "[5 rows x 1255 columns]"
      ]
     },
     "execution_count": 5,
     "metadata": {},
     "output_type": "execute_result"
    }
   ],
   "source": [
    "imp.head()"
   ]
  },
  {
   "cell_type": "markdown",
   "metadata": {},
   "source": [
    "The imprinting data has 131 instances, each of which has 1254 features. The column \"Y\" denotes the target variable, which can take either 0 or 1. "
   ]
  },
  {
   "cell_type": "code",
   "execution_count": 6,
   "metadata": {
    "collapsed": false
   },
   "outputs": [
    {
     "data": {
      "text/plain": [
       "(131, 1255)"
      ]
     },
     "execution_count": 6,
     "metadata": {},
     "output_type": "execute_result"
    }
   ],
   "source": [
    "imp.shape"
   ]
  },
  {
   "cell_type": "markdown",
   "metadata": {},
   "source": [
    "Split the data set into features and targe values as train_X and train_y respectively:"
   ]
  },
  {
   "cell_type": "code",
   "execution_count": 9,
   "metadata": {
    "collapsed": true
   },
   "outputs": [],
   "source": [
    "xcols = [col for col in imp.columns if col not in [\"Y\"]]\n",
    "# train_X is a 2-d array, train_y is a 1-d array\n",
    "train_X = imp[xcols].values  #shape: (131, 1254)\n",
    "train_y = imp[\"Y\"].values  # shape: (131,)"
   ]
  },
  {
   "cell_type": "markdown",
   "metadata": {
    "collapsed": false
   },
   "source": [
    "Initialize the Weight-Adjusted CERP model:"
   ]
  },
  {
   "cell_type": "code",
   "execution_count": 10,
   "metadata": {
    "collapsed": true
   },
   "outputs": [],
   "source": [
    "# set the ensemble size to be 10\n",
    "wacerp = WAVE(base_ensemble=\"cerp\", ensemble_size=10)"
   ]
  },
  {
   "cell_type": "code",
   "execution_count": null,
   "metadata": {
    "collapsed": true
   },
   "outputs": [],
   "source": []
  },
  {
   "cell_type": "code",
   "execution_count": 11,
   "metadata": {
    "collapsed": true
   },
   "outputs": [],
   "source": [
    "wacerp.fit(train_X, train_y)"
   ]
  },
  {
   "cell_type": "code",
   "execution_count": null,
   "metadata": {
    "collapsed": true
   },
   "outputs": [],
   "source": []
  },
  {
   "cell_type": "code",
   "execution_count": 102,
   "metadata": {
    "collapsed": false
   },
   "outputs": [
    {
     "name": "stdout",
     "output_type": "stream",
     "text": [
      "examples.ipynb  README.md  wave.py\r\n"
     ]
    }
   ],
   "source": [
    "ls"
   ]
  },
  {
   "cell_type": "code",
   "execution_count": 1,
   "metadata": {
    "collapsed": false
   },
   "outputs": [],
   "source": [
    "from wave import*"
   ]
  },
  {
   "cell_type": "code",
   "execution_count": 2,
   "metadata": {
    "collapsed": true
   },
   "outputs": [],
   "source": [
    "import pandas as pd"
   ]
  },
  {
   "cell_type": "code",
   "execution_count": 30,
   "metadata": {
    "collapsed": false
   },
   "outputs": [],
   "source": [
    "imp = pd.read_csv(\"imp.txt\", sep=\" \")"
   ]
  },
  {
   "cell_type": "code",
   "execution_count": 31,
   "metadata": {
    "collapsed": false
   },
   "outputs": [
    {
     "data": {
      "text/plain": [
       "(131, 1255)"
      ]
     },
     "execution_count": 31,
     "metadata": {},
     "output_type": "execute_result"
    }
   ],
   "source": [
    "imp.shape"
   ]
  },
  {
   "cell_type": "code",
   "execution_count": 32,
   "metadata": {
    "collapsed": false
   },
   "outputs": [
    {
     "data": {
      "text/html": [
       "<div>\n",
       "<table border=\"1\" class=\"dataframe\">\n",
       "  <thead>\n",
       "    <tr style=\"text-align: right;\">\n",
       "      <th></th>\n",
       "      <th>SIMREP.UPSS5</th>\n",
       "      <th>SIMREP.UPSC5</th>\n",
       "      <th>SIMREP.DNSC5</th>\n",
       "      <th>SIMREP.DNSS5</th>\n",
       "      <th>SIMREP.DNES5</th>\n",
       "      <th>SIMREP.DNEC5</th>\n",
       "      <th>SIMREP.BDYS10</th>\n",
       "      <th>SIMREP.BDYC10</th>\n",
       "      <th>SIMREP.UPSS10</th>\n",
       "      <th>SIMREP.UPSC10</th>\n",
       "      <th>...</th>\n",
       "      <th>s14</th>\n",
       "      <th>s15</th>\n",
       "      <th>s16</th>\n",
       "      <th>s17</th>\n",
       "      <th>s18</th>\n",
       "      <th>s19</th>\n",
       "      <th>s20</th>\n",
       "      <th>m1</th>\n",
       "      <th>m2</th>\n",
       "      <th>Y</th>\n",
       "    </tr>\n",
       "  </thead>\n",
       "  <tbody>\n",
       "    <tr>\n",
       "      <th>0</th>\n",
       "      <td>0</td>\n",
       "      <td>0</td>\n",
       "      <td>2</td>\n",
       "      <td>66</td>\n",
       "      <td>34</td>\n",
       "      <td>1</td>\n",
       "      <td>66</td>\n",
       "      <td>2</td>\n",
       "      <td>0</td>\n",
       "      <td>0</td>\n",
       "      <td>...</td>\n",
       "      <td>0</td>\n",
       "      <td>3</td>\n",
       "      <td>2</td>\n",
       "      <td>2</td>\n",
       "      <td>0</td>\n",
       "      <td>0</td>\n",
       "      <td>0</td>\n",
       "      <td>0</td>\n",
       "      <td>0</td>\n",
       "      <td>1</td>\n",
       "    </tr>\n",
       "    <tr>\n",
       "      <th>1</th>\n",
       "      <td>0</td>\n",
       "      <td>0</td>\n",
       "      <td>0</td>\n",
       "      <td>0</td>\n",
       "      <td>0</td>\n",
       "      <td>0</td>\n",
       "      <td>629</td>\n",
       "      <td>4</td>\n",
       "      <td>66</td>\n",
       "      <td>2</td>\n",
       "      <td>...</td>\n",
       "      <td>0</td>\n",
       "      <td>0</td>\n",
       "      <td>1</td>\n",
       "      <td>1</td>\n",
       "      <td>2</td>\n",
       "      <td>0</td>\n",
       "      <td>0</td>\n",
       "      <td>3</td>\n",
       "      <td>1</td>\n",
       "      <td>1</td>\n",
       "    </tr>\n",
       "    <tr>\n",
       "      <th>2</th>\n",
       "      <td>0</td>\n",
       "      <td>0</td>\n",
       "      <td>1</td>\n",
       "      <td>41</td>\n",
       "      <td>275</td>\n",
       "      <td>2</td>\n",
       "      <td>325</td>\n",
       "      <td>5</td>\n",
       "      <td>283</td>\n",
       "      <td>2</td>\n",
       "      <td>...</td>\n",
       "      <td>2</td>\n",
       "      <td>0</td>\n",
       "      <td>1</td>\n",
       "      <td>1</td>\n",
       "      <td>0</td>\n",
       "      <td>0</td>\n",
       "      <td>1</td>\n",
       "      <td>0</td>\n",
       "      <td>0</td>\n",
       "      <td>1</td>\n",
       "    </tr>\n",
       "    <tr>\n",
       "      <th>3</th>\n",
       "      <td>0</td>\n",
       "      <td>0</td>\n",
       "      <td>0</td>\n",
       "      <td>0</td>\n",
       "      <td>40</td>\n",
       "      <td>1</td>\n",
       "      <td>0</td>\n",
       "      <td>0</td>\n",
       "      <td>0</td>\n",
       "      <td>0</td>\n",
       "      <td>...</td>\n",
       "      <td>3</td>\n",
       "      <td>0</td>\n",
       "      <td>0</td>\n",
       "      <td>0</td>\n",
       "      <td>1</td>\n",
       "      <td>0</td>\n",
       "      <td>0</td>\n",
       "      <td>0</td>\n",
       "      <td>0</td>\n",
       "      <td>1</td>\n",
       "    </tr>\n",
       "    <tr>\n",
       "      <th>4</th>\n",
       "      <td>0</td>\n",
       "      <td>0</td>\n",
       "      <td>0</td>\n",
       "      <td>0</td>\n",
       "      <td>0</td>\n",
       "      <td>0</td>\n",
       "      <td>0</td>\n",
       "      <td>0</td>\n",
       "      <td>0</td>\n",
       "      <td>0</td>\n",
       "      <td>...</td>\n",
       "      <td>1</td>\n",
       "      <td>0</td>\n",
       "      <td>0</td>\n",
       "      <td>0</td>\n",
       "      <td>0</td>\n",
       "      <td>0</td>\n",
       "      <td>0</td>\n",
       "      <td>1</td>\n",
       "      <td>7</td>\n",
       "      <td>1</td>\n",
       "    </tr>\n",
       "  </tbody>\n",
       "</table>\n",
       "<p>5 rows × 1255 columns</p>\n",
       "</div>"
      ],
      "text/plain": [
       "   SIMREP.UPSS5  SIMREP.UPSC5  SIMREP.DNSC5  SIMREP.DNSS5  SIMREP.DNES5  \\\n",
       "0             0             0             2            66            34   \n",
       "1             0             0             0             0             0   \n",
       "2             0             0             1            41           275   \n",
       "3             0             0             0             0            40   \n",
       "4             0             0             0             0             0   \n",
       "\n",
       "   SIMREP.DNEC5  SIMREP.BDYS10  SIMREP.BDYC10  SIMREP.UPSS10  SIMREP.UPSC10  \\\n",
       "0             1             66              2              0              0   \n",
       "1             0            629              4             66              2   \n",
       "2             2            325              5            283              2   \n",
       "3             1              0              0              0              0   \n",
       "4             0              0              0              0              0   \n",
       "\n",
       "  ...  s14  s15  s16  s17  s18  s19  s20  m1  m2  Y  \n",
       "0 ...    0    3    2    2    0    0    0   0   0  1  \n",
       "1 ...    0    0    1    1    2    0    0   3   1  1  \n",
       "2 ...    2    0    1    1    0    0    1   0   0  1  \n",
       "3 ...    3    0    0    0    1    0    0   0   0  1  \n",
       "4 ...    1    0    0    0    0    0    0   1   7  1  \n",
       "\n",
       "[5 rows x 1255 columns]"
      ]
     },
     "execution_count": 32,
     "metadata": {},
     "output_type": "execute_result"
    }
   ],
   "source": [
    "imp.head()"
   ]
  },
  {
   "cell_type": "code",
   "execution_count": 33,
   "metadata": {
    "collapsed": true
   },
   "outputs": [],
   "source": [
    "xcols = [col for col in imp.columns if col not in [\"Y\"]]"
   ]
  },
  {
   "cell_type": "code",
   "execution_count": 34,
   "metadata": {
    "collapsed": true
   },
   "outputs": [],
   "source": [
    "train_X = imp[xcols].values\n",
    "train_y = imp[\"Y\"].values"
   ]
  },
  {
   "cell_type": "code",
   "execution_count": 5,
   "metadata": {
    "collapsed": true
   },
   "outputs": [],
   "source": [
    "?pd.read_csv()"
   ]
  },
  {
   "cell_type": "code",
   "execution_count": 3,
   "metadata": {
    "collapsed": true
   },
   "outputs": [],
   "source": [
    "est = pd.read_csv(\"estrogen.txt\", sep=\" \")"
   ]
  },
  {
   "cell_type": "code",
   "execution_count": 4,
   "metadata": {
    "collapsed": false
   },
   "outputs": [
    {
     "data": {
      "text/plain": [
       "(232, 253)"
      ]
     },
     "execution_count": 4,
     "metadata": {},
     "output_type": "execute_result"
    }
   ],
   "source": [
    "est.shape"
   ]
  },
  {
   "cell_type": "code",
   "execution_count": 5,
   "metadata": {
    "collapsed": false
   },
   "outputs": [
    {
     "data": {
      "text/html": [
       "<div>\n",
       "<table border=\"1\" class=\"dataframe\">\n",
       "  <thead>\n",
       "    <tr style=\"text-align: right;\">\n",
       "      <th></th>\n",
       "      <th>AUTO.ID</th>\n",
       "      <th>NCTRlogRBA</th>\n",
       "      <th>AI</th>\n",
       "      <th>nvx</th>\n",
       "      <th>nedges</th>\n",
       "      <th>nrings</th>\n",
       "      <th>ncircuits</th>\n",
       "      <th>nclass</th>\n",
       "      <th>nelem</th>\n",
       "      <th>ntpaths</th>\n",
       "      <th>...</th>\n",
       "      <th>SsCl</th>\n",
       "      <th>nketone</th>\n",
       "      <th>namide</th>\n",
       "      <th>nester</th>\n",
       "      <th>ncarboxylicacid</th>\n",
       "      <th>Sketone</th>\n",
       "      <th>Samide</th>\n",
       "      <th>Sester</th>\n",
       "      <th>Scarboxylicacid</th>\n",
       "      <th>Hcarboxylicacid</th>\n",
       "    </tr>\n",
       "  </thead>\n",
       "  <tbody>\n",
       "    <tr>\n",
       "      <th>0</th>\n",
       "      <td>2</td>\n",
       "      <td>-0.36</td>\n",
       "      <td>1</td>\n",
       "      <td>20</td>\n",
       "      <td>22</td>\n",
       "      <td>3</td>\n",
       "      <td>4</td>\n",
       "      <td>18</td>\n",
       "      <td>3</td>\n",
       "      <td>858</td>\n",
       "      <td>...</td>\n",
       "      <td>0.0</td>\n",
       "      <td>0</td>\n",
       "      <td>0</td>\n",
       "      <td>0</td>\n",
       "      <td>0</td>\n",
       "      <td>0.0</td>\n",
       "      <td>0.0</td>\n",
       "      <td>0.0</td>\n",
       "      <td>0.0</td>\n",
       "      <td>0.0</td>\n",
       "    </tr>\n",
       "    <tr>\n",
       "      <th>1</th>\n",
       "      <td>3</td>\n",
       "      <td>-0.82</td>\n",
       "      <td>1</td>\n",
       "      <td>18</td>\n",
       "      <td>20</td>\n",
       "      <td>3</td>\n",
       "      <td>4</td>\n",
       "      <td>16</td>\n",
       "      <td>3</td>\n",
       "      <td>692</td>\n",
       "      <td>...</td>\n",
       "      <td>0.0</td>\n",
       "      <td>0</td>\n",
       "      <td>0</td>\n",
       "      <td>0</td>\n",
       "      <td>0</td>\n",
       "      <td>0.0</td>\n",
       "      <td>0.0</td>\n",
       "      <td>0.0</td>\n",
       "      <td>0.0</td>\n",
       "      <td>0.0</td>\n",
       "    </tr>\n",
       "    <tr>\n",
       "      <th>2</th>\n",
       "      <td>4</td>\n",
       "      <td>-1.65</td>\n",
       "      <td>1</td>\n",
       "      <td>19</td>\n",
       "      <td>21</td>\n",
       "      <td>3</td>\n",
       "      <td>4</td>\n",
       "      <td>17</td>\n",
       "      <td>3</td>\n",
       "      <td>767</td>\n",
       "      <td>...</td>\n",
       "      <td>0.0</td>\n",
       "      <td>0</td>\n",
       "      <td>0</td>\n",
       "      <td>0</td>\n",
       "      <td>0</td>\n",
       "      <td>0.0</td>\n",
       "      <td>0.0</td>\n",
       "      <td>0.0</td>\n",
       "      <td>0.0</td>\n",
       "      <td>0.0</td>\n",
       "    </tr>\n",
       "    <tr>\n",
       "      <th>3</th>\n",
       "      <td>5</td>\n",
       "      <td>-2.98</td>\n",
       "      <td>1</td>\n",
       "      <td>20</td>\n",
       "      <td>22</td>\n",
       "      <td>3</td>\n",
       "      <td>4</td>\n",
       "      <td>18</td>\n",
       "      <td>3</td>\n",
       "      <td>857</td>\n",
       "      <td>...</td>\n",
       "      <td>0.0</td>\n",
       "      <td>0</td>\n",
       "      <td>0</td>\n",
       "      <td>0</td>\n",
       "      <td>0</td>\n",
       "      <td>0.0</td>\n",
       "      <td>0.0</td>\n",
       "      <td>0.0</td>\n",
       "      <td>0.0</td>\n",
       "      <td>0.0</td>\n",
       "    </tr>\n",
       "    <tr>\n",
       "      <th>4</th>\n",
       "      <td>6</td>\n",
       "      <td>-2.31</td>\n",
       "      <td>1</td>\n",
       "      <td>15</td>\n",
       "      <td>15</td>\n",
       "      <td>1</td>\n",
       "      <td>1</td>\n",
       "      <td>13</td>\n",
       "      <td>3</td>\n",
       "      <td>173</td>\n",
       "      <td>...</td>\n",
       "      <td>0.0</td>\n",
       "      <td>0</td>\n",
       "      <td>0</td>\n",
       "      <td>0</td>\n",
       "      <td>0</td>\n",
       "      <td>0.0</td>\n",
       "      <td>0.0</td>\n",
       "      <td>0.0</td>\n",
       "      <td>0.0</td>\n",
       "      <td>0.0</td>\n",
       "    </tr>\n",
       "  </tbody>\n",
       "</table>\n",
       "<p>5 rows × 253 columns</p>\n",
       "</div>"
      ],
      "text/plain": [
       "   AUTO.ID  NCTRlogRBA  AI  nvx  nedges  nrings  ncircuits  nclass  nelem  \\\n",
       "0        2       -0.36   1   20      22       3          4      18      3   \n",
       "1        3       -0.82   1   18      20       3          4      16      3   \n",
       "2        4       -1.65   1   19      21       3          4      17      3   \n",
       "3        5       -2.98   1   20      22       3          4      18      3   \n",
       "4        6       -2.31   1   15      15       1          1      13      3   \n",
       "\n",
       "   ntpaths       ...         SsCl  nketone  namide  nester  ncarboxylicacid  \\\n",
       "0      858       ...          0.0        0       0       0                0   \n",
       "1      692       ...          0.0        0       0       0                0   \n",
       "2      767       ...          0.0        0       0       0                0   \n",
       "3      857       ...          0.0        0       0       0                0   \n",
       "4      173       ...          0.0        0       0       0                0   \n",
       "\n",
       "   Sketone  Samide  Sester  Scarboxylicacid  Hcarboxylicacid  \n",
       "0      0.0     0.0     0.0              0.0              0.0  \n",
       "1      0.0     0.0     0.0              0.0              0.0  \n",
       "2      0.0     0.0     0.0              0.0              0.0  \n",
       "3      0.0     0.0     0.0              0.0              0.0  \n",
       "4      0.0     0.0     0.0              0.0              0.0  \n",
       "\n",
       "[5 rows x 253 columns]"
      ]
     },
     "execution_count": 5,
     "metadata": {},
     "output_type": "execute_result"
    }
   ],
   "source": [
    "est.head()"
   ]
  },
  {
   "cell_type": "code",
   "execution_count": 6,
   "metadata": {
    "collapsed": false
   },
   "outputs": [],
   "source": [
    "xcols = [col for col in est.columns if col not in [\"AUTO.ID\", \"NCTRlogRBA\", \"AI\"]]"
   ]
  },
  {
   "cell_type": "code",
   "execution_count": 7,
   "metadata": {
    "collapsed": false
   },
   "outputs": [],
   "source": [
    "train_X = est[xcols].values\n",
    "train_y = est[\"AI\"].values"
   ]
  },
  {
   "cell_type": "code",
   "execution_count": 39,
   "metadata": {
    "collapsed": false
   },
   "outputs": [
    {
     "data": {
      "text/plain": [
       "(131, 1254)"
      ]
     },
     "execution_count": 39,
     "metadata": {},
     "output_type": "execute_result"
    }
   ],
   "source": [
    "train_X.shape"
   ]
  },
  {
   "cell_type": "code",
   "execution_count": 40,
   "metadata": {
    "collapsed": false
   },
   "outputs": [
    {
     "data": {
      "text/plain": [
       "(131,)"
      ]
     },
     "execution_count": 40,
     "metadata": {},
     "output_type": "execute_result"
    }
   ],
   "source": [
    "train_y.shape"
   ]
  },
  {
   "cell_type": "code",
   "execution_count": 41,
   "metadata": {
    "collapsed": true
   },
   "outputs": [],
   "source": [
    "rf = WAVE(ensemble_size=500)"
   ]
  },
  {
   "cell_type": "code",
   "execution_count": 42,
   "metadata": {
    "collapsed": false
   },
   "outputs": [],
   "source": [
    "rf.fit(train_X, train_y)"
   ]
  },
  {
   "cell_type": "code",
   "execution_count": 43,
   "metadata": {
    "collapsed": false
   },
   "outputs": [
    {
     "data": {
      "text/plain": [
       "<wave.WAVE at 0x7fc73b661630>"
      ]
     },
     "execution_count": 43,
     "metadata": {},
     "output_type": "execute_result"
    }
   ],
   "source": [
    "rf"
   ]
  },
  {
   "cell_type": "code",
   "execution_count": 44,
   "metadata": {
    "collapsed": false
   },
   "outputs": [
    {
     "data": {
      "text/plain": [
       "array([[ 0.00194146],\n",
       "       [ 0.00203078],\n",
       "       [ 0.00197631],\n",
       "       [ 0.00197123],\n",
       "       [ 0.00186121],\n",
       "       [ 0.00187683],\n",
       "       [ 0.00200609],\n",
       "       [ 0.00202824],\n",
       "       [ 0.00213608],\n",
       "       [ 0.00175192],\n",
       "       [ 0.00191277],\n",
       "       [ 0.00194327],\n",
       "       [ 0.00203659],\n",
       "       [ 0.00189825],\n",
       "       [ 0.00219272],\n",
       "       [ 0.00198321],\n",
       "       [ 0.00200899],\n",
       "       [ 0.00198212],\n",
       "       [ 0.00214733],\n",
       "       [ 0.00211611],\n",
       "       [ 0.0019164 ],\n",
       "       [ 0.00203332],\n",
       "       [ 0.00191277],\n",
       "       [ 0.00198938],\n",
       "       [ 0.0018968 ],\n",
       "       [ 0.00195925],\n",
       "       [ 0.0020315 ],\n",
       "       [ 0.00190406],\n",
       "       [ 0.00200173],\n",
       "       [ 0.00194   ],\n",
       "       [ 0.00199883],\n",
       "       [ 0.00201698],\n",
       "       [ 0.00207834],\n",
       "       [ 0.00179149],\n",
       "       [ 0.00204784],\n",
       "       [ 0.00196034],\n",
       "       [ 0.00222576],\n",
       "       [ 0.00189716],\n",
       "       [ 0.00209904],\n",
       "       [ 0.00201662],\n",
       "       [ 0.0021339 ],\n",
       "       [ 0.00205402],\n",
       "       [ 0.00214915],\n",
       "       [ 0.00218328],\n",
       "       [ 0.00214878],\n",
       "       [ 0.00198648],\n",
       "       [ 0.00179948],\n",
       "       [ 0.00197196],\n",
       "       [ 0.0018761 ],\n",
       "       [ 0.00199302],\n",
       "       [ 0.00214769],\n",
       "       [ 0.0019509 ],\n",
       "       [ 0.00190152],\n",
       "       [ 0.00215895],\n",
       "       [ 0.00208779],\n",
       "       [ 0.00196905],\n",
       "       [ 0.00202715],\n",
       "       [ 0.00210049],\n",
       "       [ 0.00196506],\n",
       "       [ 0.00193202],\n",
       "       [ 0.00212191],\n",
       "       [ 0.00202569],\n",
       "       [ 0.00196833],\n",
       "       [ 0.00178351],\n",
       "       [ 0.00208669],\n",
       "       [ 0.00209795],\n",
       "       [ 0.00197558],\n",
       "       [ 0.00202133],\n",
       "       [ 0.00195562],\n",
       "       [ 0.00209976],\n",
       "       [ 0.00212301],\n",
       "       [ 0.00190224],\n",
       "       [ 0.00195053],\n",
       "       [ 0.00191531],\n",
       "       [ 0.00196687],\n",
       "       [ 0.00195453],\n",
       "       [ 0.00166078],\n",
       "       [ 0.00186484],\n",
       "       [ 0.00225154],\n",
       "       [ 0.00204058],\n",
       "       [ 0.00186194],\n",
       "       [ 0.00206745],\n",
       "       [ 0.00205184],\n",
       "       [ 0.00204784],\n",
       "       [ 0.00192039],\n",
       "       [ 0.0017984 ],\n",
       "       [ 0.00196796],\n",
       "       [ 0.00198612],\n",
       "       [ 0.00208597],\n",
       "       [ 0.00207108],\n",
       "       [ 0.002001  ],\n",
       "       [ 0.00208197],\n",
       "       [ 0.00213353],\n",
       "       [ 0.00199047],\n",
       "       [ 0.00184923],\n",
       "       [ 0.00203949],\n",
       "       [ 0.00202533],\n",
       "       [ 0.00204893],\n",
       "       [ 0.0020384 ],\n",
       "       [ 0.00201154],\n",
       "       [ 0.00197341],\n",
       "       [ 0.00204857],\n",
       "       [ 0.00207362],\n",
       "       [ 0.0019066 ],\n",
       "       [ 0.00188699],\n",
       "       [ 0.00198466],\n",
       "       [ 0.00194908],\n",
       "       [ 0.00213426],\n",
       "       [ 0.00188917],\n",
       "       [ 0.00184161],\n",
       "       [ 0.00199265],\n",
       "       [ 0.00210957],\n",
       "       [ 0.00200209],\n",
       "       [ 0.00189643],\n",
       "       [ 0.00200064],\n",
       "       [ 0.00191458],\n",
       "       [ 0.00195743],\n",
       "       [ 0.00194944],\n",
       "       [ 0.00195598],\n",
       "       [ 0.00191205],\n",
       "       [ 0.00192911],\n",
       "       [ 0.00204494],\n",
       "       [ 0.00194581],\n",
       "       [ 0.00202097],\n",
       "       [ 0.00200064],\n",
       "       [ 0.00189026],\n",
       "       [ 0.00202206],\n",
       "       [ 0.00191023],\n",
       "       [ 0.00203768],\n",
       "       [ 0.0021132 ],\n",
       "       [ 0.0019981 ],\n",
       "       [ 0.00192257],\n",
       "       [ 0.00202824],\n",
       "       [ 0.00214225],\n",
       "       [ 0.00215023],\n",
       "       [ 0.0020689 ],\n",
       "       [ 0.00189534],\n",
       "       [ 0.00210993],\n",
       "       [ 0.00202025],\n",
       "       [ 0.00202678],\n",
       "       [ 0.00197886],\n",
       "       [ 0.00204385],\n",
       "       [ 0.00175373],\n",
       "       [ 0.00217783],\n",
       "       [ 0.00195126],\n",
       "       [ 0.00209468],\n",
       "       [ 0.00212155],\n",
       "       [ 0.00192584],\n",
       "       [ 0.00200754],\n",
       "       [ 0.00211211],\n",
       "       [ 0.00205837],\n",
       "       [ 0.00211538],\n",
       "       [ 0.00179258],\n",
       "       [ 0.00218473],\n",
       "       [ 0.00203659],\n",
       "       [ 0.00189426],\n",
       "       [ 0.00192439],\n",
       "       [ 0.00176935],\n",
       "       [ 0.00203949],\n",
       "       [ 0.00202061],\n",
       "       [ 0.00220688],\n",
       "       [ 0.00193419],\n",
       "       [ 0.00192257],\n",
       "       [ 0.00200718],\n",
       "       [ 0.00191712],\n",
       "       [ 0.0020896 ],\n",
       "       [ 0.00203514],\n",
       "       [ 0.00208343],\n",
       "       [ 0.0020758 ],\n",
       "       [ 0.00183362],\n",
       "       [ 0.00213245],\n",
       "       [ 0.00207471],\n",
       "       [ 0.00204458],\n",
       "       [ 0.0018249 ],\n",
       "       [ 0.00183507],\n",
       "       [ 0.0019538 ],\n",
       "       [ 0.00194654],\n",
       "       [ 0.00203877],\n",
       "       [ 0.0020562 ],\n",
       "       [ 0.00188481],\n",
       "       [ 0.00210303],\n",
       "       [ 0.00188917],\n",
       "       [ 0.00190878],\n",
       "       [ 0.00205946],\n",
       "       [ 0.00207979],\n",
       "       [ 0.00194036],\n",
       "       [ 0.00184124],\n",
       "       [ 0.00198394],\n",
       "       [ 0.00207253],\n",
       "       [ 0.00190151],\n",
       "       [ 0.00191967],\n",
       "       [ 0.00199338],\n",
       "       [ 0.00192185],\n",
       "       [ 0.00203913],\n",
       "       [ 0.00199846],\n",
       "       [ 0.00193093],\n",
       "       [ 0.00205583],\n",
       "       [ 0.00202134],\n",
       "       [ 0.00197377],\n",
       "       [ 0.00179767],\n",
       "       [ 0.00180638],\n",
       "       [ 0.00198321],\n",
       "       [ 0.0020965 ],\n",
       "       [ 0.0020591 ],\n",
       "       [ 0.00194109],\n",
       "       [ 0.00208379],\n",
       "       [ 0.002184  ],\n",
       "       [ 0.00207399],\n",
       "       [ 0.00205728],\n",
       "       [ 0.00196505],\n",
       "       [ 0.00189607],\n",
       "       [ 0.0020591 ],\n",
       "       [ 0.00179949],\n",
       "       [ 0.00202533],\n",
       "       [ 0.00216258],\n",
       "       [ 0.00192221],\n",
       "       [ 0.00202715],\n",
       "       [ 0.00219054],\n",
       "       [ 0.0019233 ],\n",
       "       [ 0.00198648],\n",
       "       [ 0.00205765],\n",
       "       [ 0.00200137],\n",
       "       [ 0.00201916],\n",
       "       [ 0.00175918],\n",
       "       [ 0.00196433],\n",
       "       [ 0.00198285],\n",
       "       [ 0.00206309],\n",
       "       [ 0.00205765],\n",
       "       [ 0.00203223],\n",
       "       [ 0.00186158],\n",
       "       [ 0.00202751],\n",
       "       [ 0.00203078],\n",
       "       [ 0.00215387],\n",
       "       [ 0.00206237],\n",
       "       [ 0.00198466],\n",
       "       [ 0.00181582],\n",
       "       [ 0.00205148],\n",
       "       [ 0.00210049],\n",
       "       [ 0.00182781],\n",
       "       [ 0.00201952],\n",
       "       [ 0.00193166],\n",
       "       [ 0.00201807],\n",
       "       [ 0.00189026],\n",
       "       [ 0.00197849],\n",
       "       [ 0.00181147],\n",
       "       [ 0.00204022],\n",
       "       [ 0.00184306],\n",
       "       [ 0.00202098],\n",
       "       [ 0.00206128],\n",
       "       [ 0.00187392],\n",
       "       [ 0.00207362],\n",
       "       [ 0.00206927],\n",
       "       [ 0.00206455],\n",
       "       [ 0.00213644],\n",
       "       [ 0.00198394],\n",
       "       [ 0.00205837],\n",
       "       [ 0.00200101],\n",
       "       [ 0.00197305],\n",
       "       [ 0.0020867 ],\n",
       "       [ 0.0019469 ],\n",
       "       [ 0.00211829],\n",
       "       [ 0.0020867 ],\n",
       "       [ 0.00198067],\n",
       "       [ 0.00197885],\n",
       "       [ 0.00196542],\n",
       "       [ 0.00205111],\n",
       "       [ 0.00199156],\n",
       "       [ 0.00200827],\n",
       "       [ 0.00193201],\n",
       "       [ 0.00199483],\n",
       "       [ 0.00216875],\n",
       "       [ 0.00196905],\n",
       "       [ 0.00177479],\n",
       "       [ 0.00193347],\n",
       "       [ 0.00203187],\n",
       "       [ 0.00198648],\n",
       "       [ 0.00191604],\n",
       "       [ 0.00195634],\n",
       "       [ 0.00178932],\n",
       "       [ 0.00199301],\n",
       "       [ 0.0021575 ],\n",
       "       [ 0.00194037],\n",
       "       [ 0.00194254],\n",
       "       [ 0.00195489],\n",
       "       [ 0.00204929],\n",
       "       [ 0.00213281],\n",
       "       [ 0.00204966],\n",
       "       [ 0.00197631],\n",
       "       [ 0.00195017],\n",
       "       [ 0.00199991],\n",
       "       [ 0.00211357],\n",
       "       [ 0.00201335],\n",
       "       [ 0.00196433],\n",
       "       [ 0.00190514],\n",
       "       [ 0.00205474],\n",
       "       [ 0.00200282],\n",
       "       [ 0.00200463],\n",
       "       [ 0.00196796],\n",
       "       [ 0.00184705],\n",
       "       [ 0.00203187],\n",
       "       [ 0.0021506 ],\n",
       "       [ 0.00209432],\n",
       "       [ 0.00200064],\n",
       "       [ 0.00215931],\n",
       "       [ 0.00198212],\n",
       "       [ 0.00188082],\n",
       "       [ 0.00182345],\n",
       "       [ 0.00189498],\n",
       "       [ 0.00197232],\n",
       "       [ 0.00214261],\n",
       "       [ 0.00177951],\n",
       "       [ 0.00207726],\n",
       "       [ 0.00201807],\n",
       "       [ 0.00207253],\n",
       "       [ 0.00204893],\n",
       "       [ 0.00206709],\n",
       "       [ 0.0021172 ],\n",
       "       [ 0.00208343],\n",
       "       [ 0.0019026 ],\n",
       "       [ 0.00203586],\n",
       "       [ 0.00207798],\n",
       "       [ 0.00207616],\n",
       "       [ 0.00214261],\n",
       "       [ 0.00199301],\n",
       "       [ 0.00213063],\n",
       "       [ 0.00199919],\n",
       "       [ 0.00185686],\n",
       "       [ 0.00202896],\n",
       "       [ 0.00213063],\n",
       "       [ 0.0020148 ],\n",
       "       [ 0.00194835],\n",
       "       [ 0.00216476],\n",
       "       [ 0.00191168],\n",
       "       [ 0.00194218],\n",
       "       [ 0.00209432],\n",
       "       [ 0.00203985],\n",
       "       [ 0.00201625],\n",
       "       [ 0.00200899],\n",
       "       [ 0.00212627],\n",
       "       [ 0.00194291],\n",
       "       [ 0.00200863],\n",
       "       [ 0.00211684],\n",
       "       [ 0.00215387],\n",
       "       [ 0.00194654],\n",
       "       [ 0.00204857],\n",
       "       [ 0.00198248],\n",
       "       [ 0.00196615],\n",
       "       [ 0.00193274],\n",
       "       [ 0.0020148 ],\n",
       "       [ 0.00189062],\n",
       "       [ 0.00207072],\n",
       "       [ 0.00195089],\n",
       "       [ 0.00202679],\n",
       "       [ 0.00212082],\n",
       "       [ 0.00198176],\n",
       "       [ 0.00212954],\n",
       "       [ 0.00192984],\n",
       "       [ 0.00194872],\n",
       "       [ 0.00211683],\n",
       "       [ 0.00206564],\n",
       "       [ 0.00205075],\n",
       "       [ 0.00206491],\n",
       "       [ 0.00185794],\n",
       "       [ 0.00205365],\n",
       "       [ 0.00203477],\n",
       "       [ 0.00208415],\n",
       "       [ 0.00188481],\n",
       "       [ 0.00203368],\n",
       "       [ 0.0020965 ],\n",
       "       [ 0.00202388],\n",
       "       [ 0.00207726],\n",
       "       [ 0.00217021],\n",
       "       [ 0.00192548],\n",
       "       [ 0.00202642],\n",
       "       [ 0.00205293],\n",
       "       [ 0.0021063 ],\n",
       "       [ 0.00213099],\n",
       "       [ 0.00213136],\n",
       "       [ 0.00195089],\n",
       "       [ 0.00192439],\n",
       "       [ 0.00189135],\n",
       "       [ 0.0021299 ],\n",
       "       [ 0.00197704],\n",
       "       [ 0.00190551],\n",
       "       [ 0.00200028],\n",
       "       [ 0.00206055],\n",
       "       [ 0.00177661],\n",
       "       [ 0.00198539],\n",
       "       [ 0.00205982],\n",
       "       [ 0.00204276],\n",
       "       [ 0.00211719],\n",
       "       [ 0.00186775],\n",
       "       [ 0.00202751],\n",
       "       [ 0.00205002],\n",
       "       [ 0.0020355 ],\n",
       "       [ 0.00194799],\n",
       "       [ 0.00191858],\n",
       "       [ 0.00195562],\n",
       "       [ 0.00188772],\n",
       "       [ 0.00210267],\n",
       "       [ 0.00192475],\n",
       "       [ 0.00203441],\n",
       "       [ 0.00201262],\n",
       "       [ 0.00223012],\n",
       "       [ 0.00207616],\n",
       "       [ 0.00201189],\n",
       "       [ 0.0019331 ],\n",
       "       [ 0.00203804],\n",
       "       [ 0.00188518],\n",
       "       [ 0.00209759],\n",
       "       [ 0.00204421],\n",
       "       [ 0.00212519],\n",
       "       [ 0.00206273],\n",
       "       [ 0.0018859 ],\n",
       "       [ 0.00195126],\n",
       "       [ 0.00204458],\n",
       "       [ 0.00200609],\n",
       "       [ 0.00205111],\n",
       "       [ 0.00226316],\n",
       "       [ 0.00172069],\n",
       "       [ 0.00215532],\n",
       "       [ 0.0019538 ],\n",
       "       [ 0.00210521],\n",
       "       [ 0.0021063 ],\n",
       "       [ 0.00215242],\n",
       "       [ 0.00214443],\n",
       "       [ 0.00188917],\n",
       "       [ 0.00206999],\n",
       "       [ 0.00187755],\n",
       "       [ 0.00206382],\n",
       "       [ 0.00208924],\n",
       "       [ 0.00200028],\n",
       "       [ 0.00195017],\n",
       "       [ 0.00182926],\n",
       "       [ 0.00213607],\n",
       "       [ 0.00210776],\n",
       "       [ 0.0020119 ],\n",
       "       [ 0.00200572],\n",
       "       [ 0.00174284],\n",
       "       [ 0.00196905],\n",
       "       [ 0.002066  ],\n",
       "       [ 0.00195671],\n",
       "       [ 0.00191023],\n",
       "       [ 0.00195198],\n",
       "       [ 0.00195598],\n",
       "       [ 0.00189244],\n",
       "       [ 0.0019705 ],\n",
       "       [ 0.00201771],\n",
       "       [ 0.00188409],\n",
       "       [ 0.00205619],\n",
       "       [ 0.00184015],\n",
       "       [ 0.00199556],\n",
       "       [ 0.00197341],\n",
       "       [ 0.00213026],\n",
       "       [ 0.00199193],\n",
       "       [ 0.00198176],\n",
       "       [ 0.00215714],\n",
       "       [ 0.00209977],\n",
       "       [ 0.00194509],\n",
       "       [ 0.00190914],\n",
       "       [ 0.00190043],\n",
       "       [ 0.00215786],\n",
       "       [ 0.00196615],\n",
       "       [ 0.00213717],\n",
       "       [ 0.00209577],\n",
       "       [ 0.00206672],\n",
       "       [ 0.00195162],\n",
       "       [ 0.00196288],\n",
       "       [ 0.00191241],\n",
       "       [ 0.00205002],\n",
       "       [ 0.00220034],\n",
       "       [ 0.00189716],\n",
       "       [ 0.00175881],\n",
       "       [ 0.0019843 ],\n",
       "       [ 0.00206382],\n",
       "       [ 0.00194799],\n",
       "       [ 0.00176681],\n",
       "       [ 0.00203077],\n",
       "       [ 0.00194255],\n",
       "       [ 0.00197741],\n",
       "       [ 0.00185758],\n",
       "       [ 0.00212228],\n",
       "       [ 0.00189353],\n",
       "       [ 0.00212228],\n",
       "       [ 0.00197305],\n",
       "       [ 0.002127  ],\n",
       "       [ 0.00201408],\n",
       "       [ 0.00183906],\n",
       "       [ 0.00200318],\n",
       "       [ 0.00209541],\n",
       "       [ 0.00197341],\n",
       "       [ 0.00210848],\n",
       "       [ 0.00187501],\n",
       "       [ 0.00183216],\n",
       "       [ 0.00202061],\n",
       "       [ 0.00164662],\n",
       "       [ 0.00213136],\n",
       "       [ 0.0018151 ],\n",
       "       [ 0.00192984],\n",
       "       [ 0.00207508]])"
      ]
     },
     "execution_count": 44,
     "metadata": {},
     "output_type": "execute_result"
    }
   ],
   "source": [
    "rf.get_weights()"
   ]
  },
  {
   "cell_type": "code",
   "execution_count": 260,
   "metadata": {
    "collapsed": false
   },
   "outputs": [],
   "source": [
    "a = rf.base_classifiers[1].predict(train_X) == train_y"
   ]
  },
  {
   "cell_type": "code",
   "execution_count": 261,
   "metadata": {
    "collapsed": false
   },
   "outputs": [],
   "source": [
    "a = rf.base_classifiers[0].predict(train_X) == train_y\n",
    "a = a.astype(int)"
   ]
  },
  {
   "cell_type": "code",
   "execution_count": 262,
   "metadata": {
    "collapsed": false
   },
   "outputs": [],
   "source": [
    "for i in range(1, 50):\n",
    "    b = rf.base_classifiers[i].predict(train_X) == train_y\n",
    "    b = b.astype(int)\n",
    "    a = np.column_stack((a, b))"
   ]
  },
  {
   "cell_type": "code",
   "execution_count": 13,
   "metadata": {
    "collapsed": false
   },
   "outputs": [
    {
     "data": {
      "text/plain": [
       "array([[ 1.,  0.,  0.],\n",
       "       [ 0.,  1.,  0.],\n",
       "       [ 0.,  0.,  1.]])"
      ]
     },
     "execution_count": 13,
     "metadata": {},
     "output_type": "execute_result"
    }
   ],
   "source": [
    "np.identity((3))"
   ]
  },
  {
   "cell_type": "code",
   "execution_count": 51,
   "metadata": {
    "collapsed": true
   },
   "outputs": [],
   "source": [
    "cerp = WAVE(ensemble_size=10, base_ensemble=\"cerp\", min_samples_split_cerp=5)\n"
   ]
  },
  {
   "cell_type": "code",
   "execution_count": 52,
   "metadata": {
    "collapsed": false
   },
   "outputs": [
    {
     "name": "stdout",
     "output_type": "stream",
     "text": [
      "[[  69    0    0 ...,    3    0    2]\n",
      " [  39    0    0 ...,    2    0    1]\n",
      " [   0    0    0 ...,    3    0    1]\n",
      " ..., \n",
      " [ 365    0    1 ...,    7    0    2]\n",
      " [ 633   44    0 ...,    4    0    1]\n",
      " [ 303   38    5 ...,    1 2841    2]]\n",
      "[[   0 9048   20 ...,    0    0    0]\n",
      " [   0  831    9 ...,    0    0    1]\n",
      " [   0  575   11 ...,    0    0    0]\n",
      " ..., \n",
      " [   0  952    0 ...,    0    0    5]\n",
      " [   0  848    4 ...,    0    0    8]\n",
      " [   1 1773    5 ...,    0    0    5]]\n",
      "[[    0     3  2133 ...,     0   502     0]\n",
      " [    0     6     0 ...,    32   867     0]\n",
      " [    0     0     0 ...,   544   288     0]\n",
      " ..., \n",
      " [    1    17  3604 ...,     0 19471     0]\n",
      " [    0     4  1376 ...,     0 39032     2]\n",
      " [    0     8  3943 ...,     0 54877     0]]\n",
      "[[   0    0    0 ...,    0    0    3]\n",
      " [   3    0    0 ...,    0    0    0]\n",
      " [   1    0    0 ...,    0    0    1]\n",
      " ..., \n",
      " [   0    0   32 ...,    1    0    1]\n",
      " [   0 3762    0 ...,    7    0    1]\n",
      " [   0 6860    0 ...,    3    0    0]]\n",
      "[[    0     0   896 ..., 77636     0     0]\n",
      " [    0     0  1255 ..., 68418     0    66]\n",
      " [    0     0   244 ..., 98799     0   283]\n",
      " ..., \n",
      " [    0     0 14552 ...,     0     0     0]\n",
      " [    0     0  5355 ...,     0     0    21]\n",
      " [    0     0  6399 ...,     0    97     0]]\n",
      "[[  0 525   0 ...,   0   1  18]\n",
      " [103 286   1 ...,   0   0   3]\n",
      " [ 31   0   1 ...,   0   3  48]\n",
      " ..., \n",
      " [  0   0   1 ...,   0   0  46]\n",
      " [  0   0   1 ...,   0   0  55]\n",
      " [  0 403   1 ...,   0   3  59]]\n",
      "[[ 689    0    0 ...,    2    0 1840]\n",
      " [ 234    0    1 ...,    0    0  272]\n",
      " [ 374    0    0 ...,    0    0  746]\n",
      " ..., \n",
      " [ 188    0    0 ...,    0    0 1476]\n",
      " [ 186    0    0 ...,    0   44 5107]\n",
      " [ 223    0    0 ...,    1    0 3020]]\n",
      "[[7966    2    0 ...,    1    0    4]\n",
      " [1454    0    0 ...,    1    0    8]\n",
      " [2639    0    0 ...,    0    0    2]\n",
      " ..., \n",
      " [ 309    0    0 ...,   21    0   77]\n",
      " [ 561    0    0 ...,   35    0  112]\n",
      " [ 710    0    5 ...,   22    0   76]]\n",
      "[[    0 15763     0 ...,     2     0     0]\n",
      " [    0  6142    41 ...,     0     0     0]\n",
      " [    0  3742   352 ...,     0     0     0]\n",
      " ..., \n",
      " [    0  3623   677 ...,     0    26     0]\n",
      " [    0  2856   239 ...,     0     0     1]\n",
      " [    0  5166   233 ...,     0     6     1]]\n",
      "[[    2     2   106 ...,     0   783     0]\n",
      " [    2    17   215 ...,     0     0     0]\n",
      " [    3     4     0 ...,     0     0     0]\n",
      " ..., \n",
      " [    0     3  5248 ...,     0   144     0]\n",
      " [    0     4 23010 ...,     0     0    12]\n",
      " [    0     4 22615 ...,     0   779     3]]\n"
     ]
    }
   ],
   "source": [
    "cerp.fit(train_X, train_y)"
   ]
  },
  {
   "cell_type": "code",
   "execution_count": 53,
   "metadata": {
    "collapsed": false
   },
   "outputs": [
    {
     "data": {
      "text/plain": [
       "array([[ 0.11366285],\n",
       "       [ 0.09113586],\n",
       "       [ 0.09113586],\n",
       "       [ 0.07928683],\n",
       "       [ 0.11366285],\n",
       "       [ 0.06758648],\n",
       "       [ 0.11366285],\n",
       "       [ 0.11366285],\n",
       "       [ 0.1025407 ],\n",
       "       [ 0.11366285]])"
      ]
     },
     "execution_count": 53,
     "metadata": {},
     "output_type": "execute_result"
    }
   ],
   "source": [
    "cerp.get_weights()"
   ]
  },
  {
   "cell_type": "code",
   "execution_count": 172,
   "metadata": {
    "collapsed": false
   },
   "outputs": [
    {
     "data": {
      "text/plain": [
       "[array([156, 229, 182, 218,  50, 107,  44,   9, 161,   7,   5,  77]),\n",
       " array([ 15,  29, 116, 166, 117, 248,  61,  62, 200,  17, 139, 188, 115]),\n",
       " array([ 30,  85,   1, 244, 184, 150, 201,  19, 152, 162, 227,  53]),\n",
       " array([ 89, 121,  74,  65, 233, 169,  70,  67, 134, 137,  13, 206]),\n",
       " array([185, 175,  83, 178,  20, 189,  25, 210, 104,  90,  59,  82, 216]),\n",
       " array([ 51, 149, 136, 238, 109, 168, 110,   0, 195, 176, 221,  34, 101,  57]),\n",
       " array([ 63, 213,  71,  69, 145, 173,  21,  97,  31,   3,  60, 141]),\n",
       " array([111,  42, 181, 163,  73, 240,  41, 172,  18,  39, 113, 190]),\n",
       " array([ 84,   8,  38, 100, 192, 106, 234, 108, 220, 170, 103, 237,  86]),\n",
       " array([155,  66, 231,  79,  23,  95, 154, 133, 153, 232, 126, 114]),\n",
       " array([146, 148,  72,  40,  52, 167,  91, 224,  75, 186, 105, 135, 120]),\n",
       " array([177, 180,  81,  27, 198,  93,  10,  45,  14, 128,  78,  58]),\n",
       " array([159,  11,  37,  36, 204,   6, 143, 223,  46, 205, 242,  64,  54]),\n",
       " array([ 88, 222, 236, 207,  76, 247, 215,  16, 246,  56, 123, 119]),\n",
       " array([165, 209, 124,  55,  48,  35, 193, 196, 158, 160, 130,  99]),\n",
       " array([230,  26,  28, 217, 127, 202, 132, 151, 157, 174,  49, 144]),\n",
       " array([140,   4, 138, 199, 219, 142,  32, 211,  80, 214, 122, 118, 179,\n",
       "        208, 245]),\n",
       " array([ 24,  33,  43,  12,  68, 129,  94, 164, 239, 187, 194, 131]),\n",
       " array([228,  47, 147, 203, 125, 212,  87, 183, 235, 171, 225, 226]),\n",
       " array([191, 197,  96,  92, 102, 112,   2, 243, 249, 241,  22,  98])]"
      ]
     },
     "execution_count": 172,
     "metadata": {},
     "output_type": "execute_result"
    }
   ],
   "source": [
    "cerp.subfeatures_list"
   ]
  },
  {
   "cell_type": "code",
   "execution_count": 173,
   "metadata": {
    "collapsed": false
   },
   "outputs": [],
   "source": [
    "idxes = cerp.subfeatures_list[0]\n",
    "a = cerp.base_classifiers[0].predict(train_X[:,idxes]) == train_y"
   ]
  },
  {
   "cell_type": "code",
   "execution_count": 174,
   "metadata": {
    "collapsed": false
   },
   "outputs": [],
   "source": [
    "a = a.astype(int)"
   ]
  },
  {
   "cell_type": "code",
   "execution_count": 175,
   "metadata": {
    "collapsed": false
   },
   "outputs": [
    {
     "data": {
      "text/plain": [
       "(232,)"
      ]
     },
     "execution_count": 175,
     "metadata": {},
     "output_type": "execute_result"
    }
   ],
   "source": [
    "a.shape"
   ]
  },
  {
   "cell_type": "code",
   "execution_count": 176,
   "metadata": {
    "collapsed": true
   },
   "outputs": [],
   "source": [
    "for i in range(1, 10):\n",
    "    b = cerp.base_classifiers[i].predict(train_X[:, cerp.subfeatures_list[i]]) == train_y\n",
    "    b = b.astype(int)\n",
    "    a = np.column_stack((a, b))"
   ]
  },
  {
   "cell_type": "code",
   "execution_count": 177,
   "metadata": {
    "collapsed": false
   },
   "outputs": [
    {
     "data": {
      "text/plain": [
       "array([1, 1, 1, 1, 1, 1, 1, 1, 1, 1, 1, 1, 1, 1, 1, 1, 1, 1, 1, 1, 1, 1, 1,\n",
       "       1, 1, 1, 1, 1, 1, 1, 1, 1, 1, 1, 1, 1, 1, 1, 1, 1, 1, 1, 1, 1, 1, 1,\n",
       "       1, 1, 1, 1, 1, 1, 1, 1, 1, 1, 0, 1, 1, 1, 1, 1, 1, 1, 1, 1, 1, 1, 1,\n",
       "       1, 1, 1, 1, 1, 1, 1, 1, 1, 1, 1, 1, 1, 1, 1, 1, 1, 1, 1, 1, 1, 1, 1,\n",
       "       1, 1, 1, 1, 1, 1, 1, 1, 1, 1, 1, 1, 1, 1, 1, 1, 1, 1, 1, 1, 1, 1, 1,\n",
       "       1, 1, 1, 1, 1, 1, 1, 1, 1, 1, 1, 1, 1, 1, 1, 1, 1, 1, 1, 1, 1, 1, 1,\n",
       "       1, 1, 1, 1, 1, 1, 1, 1, 1, 1, 1, 1, 1, 1, 1, 1, 1, 1, 1, 1, 1, 1, 1,\n",
       "       1, 1, 1, 1, 1, 1, 1, 1, 1, 1, 1, 1, 1, 1, 1, 1, 1, 1, 1, 1, 1, 1, 1,\n",
       "       1, 1, 1, 1, 1, 1, 1, 1, 1, 1, 1, 1, 1, 1, 1, 1, 1, 1, 1, 1, 1, 1, 1,\n",
       "       1, 1, 1, 1, 1, 1, 1, 1, 1, 1, 1, 1, 1, 1, 1, 1, 1, 1, 1, 1, 1, 1, 1,\n",
       "       1, 1])"
      ]
     },
     "execution_count": 177,
     "metadata": {},
     "output_type": "execute_result"
    }
   ],
   "source": [
    "a[:, 3]"
   ]
  },
  {
   "cell_type": "code",
   "execution_count": 178,
   "metadata": {
    "collapsed": false
   },
   "outputs": [
    {
     "data": {
      "text/plain": [
       "array([ True,  True,  True,  True,  True,  True,  True,  True,  True,\n",
       "        True,  True,  True,  True,  True,  True,  True,  True,  True,\n",
       "        True,  True,  True,  True,  True,  True,  True,  True,  True,\n",
       "        True,  True,  True,  True,  True,  True,  True,  True,  True,\n",
       "        True,  True,  True,  True,  True,  True,  True,  True,  True,\n",
       "        True,  True,  True,  True,  True,  True,  True,  True,  True,\n",
       "        True,  True,  True,  True,  True,  True,  True,  True,  True,\n",
       "        True,  True,  True,  True,  True,  True,  True,  True,  True,\n",
       "        True,  True,  True,  True,  True,  True,  True,  True,  True,\n",
       "        True,  True,  True,  True,  True,  True,  True,  True,  True,\n",
       "        True,  True,  True,  True,  True,  True,  True,  True,  True,\n",
       "        True,  True,  True,  True,  True,  True,  True,  True,  True,\n",
       "        True,  True,  True,  True,  True,  True,  True,  True,  True,\n",
       "        True,  True,  True,  True,  True,  True,  True,  True,  True,\n",
       "        True,  True,  True,  True,  True,  True,  True,  True,  True,\n",
       "        True,  True,  True,  True,  True,  True,  True,  True,  True,\n",
       "        True,  True,  True,  True,  True,  True,  True,  True,  True,\n",
       "        True,  True,  True,  True,  True,  True,  True,  True,  True,\n",
       "        True,  True,  True,  True,  True,  True,  True,  True,  True,\n",
       "        True,  True,  True,  True,  True,  True,  True,  True,  True,\n",
       "        True,  True,  True,  True,  True,  True,  True,  True,  True,\n",
       "        True,  True,  True,  True,  True,  True,  True,  True,  True,\n",
       "        True,  True,  True,  True,  True,  True,  True,  True,  True,\n",
       "        True,  True,  True,  True,  True,  True,  True,  True,  True,\n",
       "        True,  True,  True,  True,  True,  True,  True,  True,  True,\n",
       "        True,  True,  True,  True,  True,  True,  True], dtype=bool)"
      ]
     },
     "execution_count": 178,
     "metadata": {},
     "output_type": "execute_result"
    }
   ],
   "source": [
    "a[:,1] == a[:, 3]"
   ]
  },
  {
   "cell_type": "code",
   "execution_count": 179,
   "metadata": {
    "collapsed": false
   },
   "outputs": [
    {
     "data": {
      "text/plain": [
       "array([[ 1.,  1.,  1.],\n",
       "       [ 1.,  1.,  1.]])"
      ]
     },
     "execution_count": 179,
     "metadata": {},
     "output_type": "execute_result"
    }
   ],
   "source": [
    "np.ones((2,3))"
   ]
  },
  {
   "cell_type": "code",
   "execution_count": 180,
   "metadata": {
    "collapsed": false
   },
   "outputs": [
    {
     "data": {
      "text/plain": [
       "(10, 232)"
      ]
     },
     "execution_count": 180,
     "metadata": {},
     "output_type": "execute_result"
    }
   ],
   "source": [
    "a.T.shape"
   ]
  },
  {
   "cell_type": "code",
   "execution_count": 181,
   "metadata": {
    "collapsed": true
   },
   "outputs": [],
   "source": [
    "diag_k = np.zeros((k, k))\n",
    "np.fill_diagonal(diag_k, 1)"
   ]
  },
  {
   "cell_type": "code",
   "execution_count": 203,
   "metadata": {
    "collapsed": false
   },
   "outputs": [
    {
     "data": {
      "text/plain": [
       "array([[ 1.,  0.,  0.,  0.,  0.,  0.,  0.,  0.,  0.,  0.],\n",
       "       [ 0.,  1.,  0.,  0.,  0.,  0.,  0.,  0.,  0.,  0.],\n",
       "       [ 0.,  0.,  1.,  0.,  0.,  0.,  0.,  0.,  0.,  0.],\n",
       "       [ 0.,  0.,  0.,  1.,  0.,  0.,  0.,  0.,  0.,  0.],\n",
       "       [ 0.,  0.,  0.,  0.,  1.,  0.,  0.,  0.,  0.,  0.],\n",
       "       [ 0.,  0.,  0.,  0.,  0.,  1.,  0.,  0.,  0.,  0.],\n",
       "       [ 0.,  0.,  0.,  0.,  0.,  0.,  1.,  0.,  0.,  0.],\n",
       "       [ 0.,  0.,  0.,  0.,  0.,  0.,  0.,  1.,  0.,  0.],\n",
       "       [ 0.,  0.,  0.,  0.,  0.,  0.,  0.,  0.,  1.,  0.],\n",
       "       [ 0.,  0.,  0.,  0.,  0.,  0.,  0.,  0.,  0.,  1.]])"
      ]
     },
     "execution_count": 203,
     "metadata": {},
     "output_type": "execute_result"
    }
   ],
   "source": [
    "np.identity(k)"
   ]
  },
  {
   "cell_type": "code",
   "execution_count": 264,
   "metadata": {
    "collapsed": true
   },
   "outputs": [],
   "source": [
    "n = 232\n",
    "k = 50"
   ]
  },
  {
   "cell_type": "code",
   "execution_count": 265,
   "metadata": {
    "collapsed": true
   },
   "outputs": [],
   "source": [
    "X = a\n",
    "J_nk = np.ones((n, k))\n",
    "J_kk = np.ones((k, k))"
   ]
  },
  {
   "cell_type": "code",
   "execution_count": 266,
   "metadata": {
    "collapsed": true
   },
   "outputs": [],
   "source": [
    "diag_k = np.zeros((k, k))\n",
    "np.fill_diagonal(diag_k, 1)"
   ]
  },
  {
   "cell_type": "code",
   "execution_count": 267,
   "metadata": {
    "collapsed": false
   },
   "outputs": [],
   "source": [
    "T = np.matmul(np.matmul(X.T, (J_nk-X)), (J_kk-diag_k))"
   ]
  },
  {
   "cell_type": "code",
   "execution_count": 268,
   "metadata": {
    "collapsed": true
   },
   "outputs": [],
   "source": [
    "T1 = np.dot(np.dot(X.T, (J_nk - X)), (J_kk-diag_k))"
   ]
  },
  {
   "cell_type": "code",
   "execution_count": 282,
   "metadata": {
    "collapsed": false
   },
   "outputs": [
    {
     "data": {
      "text/plain": [
       "(50, 50)"
      ]
     },
     "execution_count": 282,
     "metadata": {},
     "output_type": "execute_result"
    }
   ],
   "source": [
    "T.shape"
   ]
  },
  {
   "cell_type": "code",
   "execution_count": 285,
   "metadata": {
    "collapsed": true
   },
   "outputs": [],
   "source": [
    "?np.savetxt()"
   ]
  },
  {
   "cell_type": "code",
   "execution_count": 286,
   "metadata": {
    "collapsed": false
   },
   "outputs": [],
   "source": [
    "np.savetxt(\"haha.txt\",T)"
   ]
  },
  {
   "cell_type": "code",
   "execution_count": 287,
   "metadata": {
    "collapsed": false
   },
   "outputs": [
    {
     "name": "stdout",
     "output_type": "stream",
     "text": [
      "\u001b[0m\u001b[01;32mestrogen.txt\u001b[0m*   haha.txt  \u001b[01;34m__pycache__\u001b[0m/  wave.py\r\n",
      "examples.ipynb  \u001b[01;32mimp.txt\u001b[0m*  README.md\r\n"
     ]
    }
   ],
   "source": [
    "ls"
   ]
  },
  {
   "cell_type": "code",
   "execution_count": 270,
   "metadata": {
    "collapsed": false
   },
   "outputs": [
    {
     "data": {
      "text/plain": [
       "array([1, 1, 1, 1, 1, 1, 1, 1, 1, 1, 1, 1, 1, 1, 0, 1, 1, 1, 1, 1, 1, 1, 1,\n",
       "       1, 1, 1, 1, 1, 1, 1, 0, 1, 1, 1, 1, 0, 1, 1, 1, 1, 1, 1, 1, 1, 1, 1,\n",
       "       1, 1, 1, 1, 1, 1, 1, 1, 1, 1, 1, 1, 1, 1, 1, 1, 1, 1, 1, 1, 1, 1, 1,\n",
       "       1, 1, 1, 1, 1, 1, 1, 1, 1, 1, 1, 1, 0, 1, 1, 1, 1, 1, 1, 1, 1, 1, 1,\n",
       "       1, 1, 1, 1, 0, 1, 1, 1, 1, 1, 1, 1, 1, 1, 1, 1, 1, 1, 0, 1, 0, 1, 1,\n",
       "       1, 1, 1, 1, 1, 1, 1, 1, 1, 1, 1, 1, 1, 1, 1, 1, 1, 1, 1, 1, 1, 1, 1,\n",
       "       1, 1, 1, 1, 0, 0, 1, 1, 1, 1, 1, 0, 1, 1, 1, 1, 1, 0, 0, 1, 1, 0, 1,\n",
       "       1, 1, 1, 1, 1, 1, 1, 0, 1, 1, 1, 0, 1, 1, 1, 1, 1, 1, 1, 0, 1, 1, 1,\n",
       "       1, 1, 1, 1, 1, 1, 1, 1, 1, 1, 1, 1, 1, 1, 1, 1, 1, 1, 1, 0, 1, 1, 1,\n",
       "       1, 1, 1, 1, 0, 1, 1, 1, 1, 1, 1, 1, 1, 1, 1, 1, 0, 1, 1, 1, 1, 1, 1,\n",
       "       1, 1])"
      ]
     },
     "execution_count": 270,
     "metadata": {},
     "output_type": "execute_result"
    }
   ],
   "source": [
    "X[:,1]"
   ]
  },
  {
   "cell_type": "code",
   "execution_count": 293,
   "metadata": {
    "collapsed": false
   },
   "outputs": [],
   "source": [
    "eig_values, eig_vectors = np.linalg.eig(T)[0].real, np.linalg.eig(T)[1].real"
   ]
  },
  {
   "cell_type": "code",
   "execution_count": 294,
   "metadata": {
    "collapsed": false
   },
   "outputs": [
    {
     "data": {
      "text/plain": [
       "array([  4.47609428e+04,   4.91442929e+01,   4.44375254e+01,\n",
       "         4.29418298e+01,   4.01963545e+01,   3.86315986e+01,\n",
       "         3.71164043e+01,   3.55697325e+01,   3.38156976e+01,\n",
       "         3.14950668e+01,   2.90861487e+01,   2.83535797e+01,\n",
       "         2.83535797e+01,   2.59982611e+01,   2.43116688e+01,\n",
       "         2.32485758e+01,   2.21479022e+01,   2.12290333e+01,\n",
       "         3.16449069e+00,   3.83943998e+00,   3.93178404e+00,\n",
       "         2.02426655e+01,   1.98839129e+01,   4.65864195e+00,\n",
       "         5.27834549e+00,   5.37237857e+00,   5.72434163e+00,\n",
       "         5.87552590e+00,   6.32020758e+00,   6.72926011e+00,\n",
       "         1.86015926e+01,   1.86015926e+01,   7.77471350e+00,\n",
       "         1.76755761e+01,   8.69583321e+00,   9.19729633e+00,\n",
       "         9.24736899e+00,   9.87272584e+00,   1.02896739e+01,\n",
       "         1.08182952e+01,   1.69882602e+01,   1.62695915e+01,\n",
       "         1.59754141e+01,   1.52119839e+01,   1.47768109e+01,\n",
       "         1.39721185e+01,   1.18382838e+01,   1.19704189e+01,\n",
       "         1.31757553e+01,   1.30056710e+01])"
      ]
     },
     "execution_count": 294,
     "metadata": {},
     "output_type": "execute_result"
    }
   ],
   "source": [
    "eig_values"
   ]
  },
  {
   "cell_type": "code",
   "execution_count": 291,
   "metadata": {
    "collapsed": false
   },
   "outputs": [
    {
     "data": {
      "text/plain": [
       "(50, 50)"
      ]
     },
     "execution_count": 291,
     "metadata": {},
     "output_type": "execute_result"
    }
   ],
   "source": [
    "eig_vectors.real.shape"
   ]
  },
  {
   "cell_type": "code",
   "execution_count": 274,
   "metadata": {
    "collapsed": true
   },
   "outputs": [],
   "source": [
    "max_eig_value = eig_values.max()"
   ]
  },
  {
   "cell_type": "code",
   "execution_count": 275,
   "metadata": {
    "collapsed": false
   },
   "outputs": [
    {
     "data": {
      "text/plain": [
       "(44760.942777783821+0j)"
      ]
     },
     "execution_count": 275,
     "metadata": {},
     "output_type": "execute_result"
    }
   ],
   "source": [
    "max_eig_value"
   ]
  },
  {
   "cell_type": "code",
   "execution_count": 276,
   "metadata": {
    "collapsed": false
   },
   "outputs": [],
   "source": [
    "r = 0\n",
    "idxes = []\n",
    "\n",
    "for i in range(len(eig_values)):\n",
    "    if eig_values[i] == max_eig_value:\n",
    "        r += 1\n",
    "        idxes.append(i)"
   ]
  },
  {
   "cell_type": "code",
   "execution_count": 277,
   "metadata": {
    "collapsed": false
   },
   "outputs": [
    {
     "data": {
      "text/plain": [
       "(1, [0])"
      ]
     },
     "execution_count": 277,
     "metadata": {},
     "output_type": "execute_result"
    }
   ],
   "source": [
    "r, idxes"
   ]
  },
  {
   "cell_type": "code",
   "execution_count": 278,
   "metadata": {
    "collapsed": false
   },
   "outputs": [],
   "source": [
    "sigma = np.zeros((k, k))"
   ]
  },
  {
   "cell_type": "code",
   "execution_count": 279,
   "metadata": {
    "collapsed": false
   },
   "outputs": [
    {
     "name": "stderr",
     "output_type": "stream",
     "text": [
      "/home/xiaoke/anaconda3/lib/python3.5/site-packages/ipykernel/__main__.py:4: ComplexWarning: Casting complex values to real discards the imaginary part\n"
     ]
    }
   ],
   "source": [
    "for i in range(r):\n",
    "    u = eig_vectors[:, idxes[i]]\n",
    "    u = u.reshape((k, 1))\n",
    "    u = u.astype(np.float64)\n",
    "    sigma += u.dot(u.T)"
   ]
  },
  {
   "cell_type": "code",
   "execution_count": 280,
   "metadata": {
    "collapsed": true
   },
   "outputs": [],
   "source": [
    "k_1 = np.ones((k, 1))\n",
    "ans = (sigma.dot(k_1)) / k_1.T.dot(sigma).dot(k_1)"
   ]
  },
  {
   "cell_type": "code",
   "execution_count": 281,
   "metadata": {
    "collapsed": false
   },
   "outputs": [
    {
     "data": {
      "text/plain": [
       "array([[ 0.01968353],\n",
       "       [ 0.02045047],\n",
       "       [ 0.01999045],\n",
       "       [ 0.01948654],\n",
       "       [ 0.02001243],\n",
       "       [ 0.01983693],\n",
       "       [ 0.02007817],\n",
       "       [ 0.02031879],\n",
       "       [ 0.01979332],\n",
       "       [ 0.01931137],\n",
       "       [ 0.02001241],\n",
       "       [ 0.02034057],\n",
       "       [ 0.02003413],\n",
       "       [ 0.01983715],\n",
       "       [ 0.02091021],\n",
       "       [ 0.02049421],\n",
       "       [ 0.02001238],\n",
       "       [ 0.01990282],\n",
       "       [ 0.02031913],\n",
       "       [ 0.01878526],\n",
       "       [ 0.02018742],\n",
       "       [ 0.02102015],\n",
       "       [ 0.02018755],\n",
       "       [ 0.0208448 ],\n",
       "       [ 0.02007767],\n",
       "       [ 0.01907033],\n",
       "       [ 0.02167714],\n",
       "       [ 0.01955224],\n",
       "       [ 0.02012188],\n",
       "       [ 0.02130487],\n",
       "       [ 0.01953036],\n",
       "       [ 0.01946452],\n",
       "       [ 0.02163336],\n",
       "       [ 0.02007794],\n",
       "       [ 0.02058205],\n",
       "       [ 0.01926717],\n",
       "       [ 0.02036253],\n",
       "       [ 0.01974909],\n",
       "       [ 0.02025347],\n",
       "       [ 0.01854487],\n",
       "       [ 0.02051653],\n",
       "       [ 0.019859  ],\n",
       "       [ 0.02132662],\n",
       "       [ 0.0195959 ],\n",
       "       [ 0.01935496],\n",
       "       [ 0.01858832],\n",
       "       [ 0.01920176],\n",
       "       [ 0.02058184],\n",
       "       [ 0.01924541],\n",
       "       [ 0.01860997]])"
      ]
     },
     "execution_count": 281,
     "metadata": {},
     "output_type": "execute_result"
    }
   ],
   "source": [
    "ans"
   ]
  },
  {
   "cell_type": "code",
   "execution_count": null,
   "metadata": {
    "collapsed": true
   },
   "outputs": [],
   "source": []
  },
  {
   "cell_type": "code",
   "execution_count": 115,
   "metadata": {
    "collapsed": false
   },
   "outputs": [
    {
     "data": {
      "text/plain": [
       "(10,)"
      ]
     },
     "execution_count": 115,
     "metadata": {},
     "output_type": "execute_result"
    }
   ],
   "source": [
    "u = eig_vectors[:, 0]\n",
    "u.shape"
   ]
  },
  {
   "cell_type": "code",
   "execution_count": 118,
   "metadata": {
    "collapsed": false
   },
   "outputs": [
    {
     "data": {
      "text/plain": [
       "(10, 1)"
      ]
     },
     "execution_count": 118,
     "metadata": {},
     "output_type": "execute_result"
    }
   ],
   "source": [
    "u = u.reshape((k, 1))\n",
    "u.shape"
   ]
  },
  {
   "cell_type": "code",
   "execution_count": 120,
   "metadata": {
    "collapsed": false
   },
   "outputs": [],
   "source": [
    "sigma += u.dot(u.T)"
   ]
  },
  {
   "cell_type": "code",
   "execution_count": 121,
   "metadata": {
    "collapsed": false
   },
   "outputs": [
    {
     "data": {
      "text/plain": [
       "array([[ 1.,  0.,  0.,  0.,  0.,  0.,  0.,  0.,  0.,  0.],\n",
       "       [ 0.,  0.,  0.,  0.,  0.,  0.,  0.,  0.,  0.,  0.],\n",
       "       [ 0.,  0.,  0.,  0.,  0.,  0.,  0.,  0.,  0.,  0.],\n",
       "       [ 0.,  0.,  0.,  0.,  0.,  0.,  0.,  0.,  0.,  0.],\n",
       "       [ 0.,  0.,  0.,  0.,  0.,  0.,  0.,  0.,  0.,  0.],\n",
       "       [ 0.,  0.,  0.,  0.,  0.,  0.,  0.,  0.,  0.,  0.],\n",
       "       [ 0.,  0.,  0.,  0.,  0.,  0.,  0.,  0.,  0.,  0.],\n",
       "       [ 0.,  0.,  0.,  0.,  0.,  0.,  0.,  0.,  0.,  0.],\n",
       "       [ 0.,  0.,  0.,  0.,  0.,  0.,  0.,  0.,  0.,  0.],\n",
       "       [ 0.,  0.,  0.,  0.,  0.,  0.,  0.,  0.,  0.,  0.]])"
      ]
     },
     "execution_count": 121,
     "metadata": {},
     "output_type": "execute_result"
    }
   ],
   "source": [
    "sigma"
   ]
  },
  {
   "cell_type": "code",
   "execution_count": 83,
   "metadata": {
    "collapsed": false
   },
   "outputs": [
    {
     "data": {
      "text/plain": [
       "(10,)"
      ]
     },
     "execution_count": 83,
     "metadata": {},
     "output_type": "execute_result"
    }
   ],
   "source": [
    "eig_values.shape"
   ]
  },
  {
   "cell_type": "code",
   "execution_count": 84,
   "metadata": {
    "collapsed": false
   },
   "outputs": [
    {
     "data": {
      "text/plain": [
       "(10, 10)"
      ]
     },
     "execution_count": 84,
     "metadata": {},
     "output_type": "execute_result"
    }
   ],
   "source": [
    "eig_vectors.shape"
   ]
  },
  {
   "cell_type": "code",
   "execution_count": 101,
   "metadata": {
    "collapsed": false
   },
   "outputs": [
    {
     "data": {
      "text/plain": [
       "array([ 1.        , -0.66436384, -0.66436384, -0.66436384, -0.66436384,\n",
       "       -0.66436384, -0.66436384, -0.66436384, -0.66436384, -0.66436384])"
      ]
     },
     "execution_count": 101,
     "metadata": {},
     "output_type": "execute_result"
    }
   ],
   "source": [
    "eig_vectors[0]"
   ]
  },
  {
   "cell_type": "code",
   "execution_count": 90,
   "metadata": {
    "collapsed": false
   },
   "outputs": [
    {
     "data": {
      "text/plain": [
       "array([ 909.,    0.,    0.,    0.,    0.,    0.,    0.,    0.,    0.,    0.])"
      ]
     },
     "execution_count": 90,
     "metadata": {},
     "output_type": "execute_result"
    }
   ],
   "source": [
    "eig_values"
   ]
  },
  {
   "cell_type": "code",
   "execution_count": 95,
   "metadata": {
    "collapsed": false
   },
   "outputs": [
    {
     "data": {
      "text/plain": [
       "array([ 1.,  0.,  0.,  0.,  0.,  0.,  0.,  0.,  0.,  0.])"
      ]
     },
     "execution_count": 95,
     "metadata": {},
     "output_type": "execute_result"
    }
   ],
   "source": [
    "eig_vectors[:,0]"
   ]
  },
  {
   "cell_type": "code",
   "execution_count": 105,
   "metadata": {
    "collapsed": false
   },
   "outputs": [],
   "source": [
    "?np.argmax()"
   ]
  },
  {
   "cell_type": "code",
   "execution_count": null,
   "metadata": {
    "collapsed": true
   },
   "outputs": [],
   "source": [
    "T = np.dot"
   ]
  },
  {
   "cell_type": "code",
   "execution_count": 59,
   "metadata": {
    "collapsed": false
   },
   "outputs": [
    {
     "data": {
      "text/plain": [
       "array([[1, 0, 0, 0],\n",
       "       [0, 2, 0, 0],\n",
       "       [0, 0, 3, 0],\n",
       "       [0, 0, 0, 4]])"
      ]
     },
     "execution_count": 59,
     "metadata": {},
     "output_type": "execute_result"
    }
   ],
   "source": [
    "np.diagflat([[1,2], [3,4]])"
   ]
  },
  {
   "cell_type": "code",
   "execution_count": 65,
   "metadata": {
    "collapsed": false
   },
   "outputs": [
    {
     "data": {
      "text/plain": [
       "array([[ 1.,  0.,  0., ...,  0.,  0.,  0.],\n",
       "       [ 0.,  1.,  0., ...,  0.,  0.,  0.],\n",
       "       [ 0.,  0.,  1., ...,  0.,  0.,  0.],\n",
       "       ..., \n",
       "       [ 0.,  0.,  0., ...,  1.,  0.,  0.],\n",
       "       [ 0.,  0.,  0., ...,  0.,  1.,  0.],\n",
       "       [ 0.,  0.,  0., ...,  0.,  0.,  1.]])"
      ]
     },
     "execution_count": 65,
     "metadata": {},
     "output_type": "execute_result"
    }
   ],
   "source": [
    "np.diagflat(J_kk)"
   ]
  },
  {
   "cell_type": "code",
   "execution_count": 64,
   "metadata": {
    "collapsed": false
   },
   "outputs": [
    {
     "data": {
      "text/plain": [
       "(10, 10)"
      ]
     },
     "execution_count": 64,
     "metadata": {},
     "output_type": "execute_result"
    }
   ],
   "source": [
    "J_kk.shape"
   ]
  },
  {
   "cell_type": "code",
   "execution_count": 68,
   "metadata": {
    "collapsed": false
   },
   "outputs": [
    {
     "data": {
      "text/plain": [
       "numpy.int64"
      ]
     },
     "execution_count": 68,
     "metadata": {},
     "output_type": "execute_result"
    }
   ],
   "source": [
    "type(rf.base_classifiers[0].predict(train_X[1].reshape((1, -1)))[0])"
   ]
  },
  {
   "cell_type": "code",
   "execution_count": 73,
   "metadata": {
    "collapsed": false
   },
   "outputs": [],
   "source": [
    "new_X = train_X[1]"
   ]
  },
  {
   "cell_type": "code",
   "execution_count": 74,
   "metadata": {
    "collapsed": false
   },
   "outputs": [
    {
     "data": {
      "text/plain": [
       "(1254,)"
      ]
     },
     "execution_count": 74,
     "metadata": {},
     "output_type": "execute_result"
    }
   ],
   "source": [
    "new_X.shape"
   ]
  },
  {
   "cell_type": "code",
   "execution_count": 75,
   "metadata": {
    "collapsed": false
   },
   "outputs": [
    {
     "data": {
      "text/plain": [
       "1"
      ]
     },
     "execution_count": 75,
     "metadata": {},
     "output_type": "execute_result"
    }
   ],
   "source": [
    "len(new_X.shape)"
   ]
  },
  {
   "cell_type": "code",
   "execution_count": 78,
   "metadata": {
    "collapsed": false
   },
   "outputs": [
    {
     "data": {
      "text/plain": [
       "(1254,)"
      ]
     },
     "execution_count": 78,
     "metadata": {},
     "output_type": "execute_result"
    }
   ],
   "source": [
    "train_X[1].shape"
   ]
  },
  {
   "cell_type": "code",
   "execution_count": 80,
   "metadata": {
    "collapsed": false
   },
   "outputs": [],
   "source": [
    "?DecisionTreeClassifier()"
   ]
  },
  {
   "cell_type": "code",
   "execution_count": null,
   "metadata": {
    "collapsed": true
   },
   "outputs": [],
   "source": []
  },
  {
   "cell_type": "code",
   "execution_count": null,
   "metadata": {
    "collapsed": true
   },
   "outputs": [],
   "source": []
  },
  {
   "cell_type": "code",
   "execution_count": 76,
   "metadata": {
    "collapsed": false
   },
   "outputs": [
    {
     "data": {
      "text/plain": [
       "(1, 1254)"
      ]
     },
     "execution_count": 76,
     "metadata": {},
     "output_type": "execute_result"
    }
   ],
   "source": [
    "train_X[1].reshape((1, -1)).shape"
   ]
  },
  {
   "cell_type": "code",
   "execution_count": 72,
   "metadata": {
    "collapsed": false
   },
   "outputs": [
    {
     "data": {
      "text/plain": [
       "{0, 1}"
      ]
     },
     "execution_count": 72,
     "metadata": {},
     "output_type": "execute_result"
    }
   ],
   "source": [
    "set(train_y)"
   ]
  },
  {
   "cell_type": "code",
   "execution_count": 22,
   "metadata": {
    "collapsed": false
   },
   "outputs": [],
   "source": [
    "cerp = WAVE(ensemble_size=10, base_ensemble=\"cerp\")"
   ]
  },
  {
   "cell_type": "code",
   "execution_count": 23,
   "metadata": {
    "collapsed": true
   },
   "outputs": [],
   "source": [
    "cerp.fit_base_classifiers(train_X, train_y)"
   ]
  },
  {
   "cell_type": "code",
   "execution_count": 26,
   "metadata": {
    "collapsed": false
   },
   "outputs": [
    {
     "ename": "ValueError",
     "evalue": "Number of features of the model must match the input. Model n_features is 25 and input n_features is 250 ",
     "output_type": "error",
     "traceback": [
      "\u001b[0;31m---------------------------------------------------------------------------\u001b[0m",
      "\u001b[0;31mValueError\u001b[0m                                Traceback (most recent call last)",
      "\u001b[0;32m<ipython-input-26-04b86cfb0839>\u001b[0m in \u001b[0;36m<module>\u001b[0;34m()\u001b[0m\n\u001b[0;32m----> 1\u001b[0;31m \u001b[0mcerp\u001b[0m\u001b[0;34m.\u001b[0m\u001b[0mbase_classifiers\u001b[0m\u001b[0;34m[\u001b[0m\u001b[0;36m1\u001b[0m\u001b[0;34m]\u001b[0m\u001b[0;34m.\u001b[0m\u001b[0mpredict\u001b[0m\u001b[0;34m(\u001b[0m\u001b[0mtrain_X\u001b[0m\u001b[0;34m)\u001b[0m\u001b[0;34m\u001b[0m\u001b[0m\n\u001b[0m",
      "\u001b[0;32m/home/xiaoke/anaconda3/lib/python3.5/site-packages/sklearn/tree/tree.py\u001b[0m in \u001b[0;36mpredict\u001b[0;34m(self, X, check_input)\u001b[0m\n\u001b[1;32m    402\u001b[0m         \"\"\"\n\u001b[1;32m    403\u001b[0m \u001b[0;34m\u001b[0m\u001b[0m\n\u001b[0;32m--> 404\u001b[0;31m         \u001b[0mX\u001b[0m \u001b[0;34m=\u001b[0m \u001b[0mself\u001b[0m\u001b[0;34m.\u001b[0m\u001b[0m_validate_X_predict\u001b[0m\u001b[0;34m(\u001b[0m\u001b[0mX\u001b[0m\u001b[0;34m,\u001b[0m \u001b[0mcheck_input\u001b[0m\u001b[0;34m)\u001b[0m\u001b[0;34m\u001b[0m\u001b[0m\n\u001b[0m\u001b[1;32m    405\u001b[0m         \u001b[0mproba\u001b[0m \u001b[0;34m=\u001b[0m \u001b[0mself\u001b[0m\u001b[0;34m.\u001b[0m\u001b[0mtree_\u001b[0m\u001b[0;34m.\u001b[0m\u001b[0mpredict\u001b[0m\u001b[0;34m(\u001b[0m\u001b[0mX\u001b[0m\u001b[0;34m)\u001b[0m\u001b[0;34m\u001b[0m\u001b[0m\n\u001b[1;32m    406\u001b[0m         \u001b[0mn_samples\u001b[0m \u001b[0;34m=\u001b[0m \u001b[0mX\u001b[0m\u001b[0;34m.\u001b[0m\u001b[0mshape\u001b[0m\u001b[0;34m[\u001b[0m\u001b[0;36m0\u001b[0m\u001b[0;34m]\u001b[0m\u001b[0;34m\u001b[0m\u001b[0m\n",
      "\u001b[0;32m/home/xiaoke/anaconda3/lib/python3.5/site-packages/sklearn/tree/tree.py\u001b[0m in \u001b[0;36m_validate_X_predict\u001b[0;34m(self, X, check_input)\u001b[0m\n\u001b[1;32m    374\u001b[0m                              \u001b[0;34m\"match the input. Model n_features is %s and \"\u001b[0m\u001b[0;34m\u001b[0m\u001b[0m\n\u001b[1;32m    375\u001b[0m                              \u001b[0;34m\"input n_features is %s \"\u001b[0m\u001b[0;34m\u001b[0m\u001b[0m\n\u001b[0;32m--> 376\u001b[0;31m                              % (self.n_features_, n_features))\n\u001b[0m\u001b[1;32m    377\u001b[0m \u001b[0;34m\u001b[0m\u001b[0m\n\u001b[1;32m    378\u001b[0m         \u001b[0;32mreturn\u001b[0m \u001b[0mX\u001b[0m\u001b[0;34m\u001b[0m\u001b[0m\n",
      "\u001b[0;31mValueError\u001b[0m: Number of features of the model must match the input. Model n_features is 25 and input n_features is 250 "
     ]
    }
   ],
   "source": [
    "cerp.base_classifiers[1].predict(train_X)"
   ]
  },
  {
   "cell_type": "code",
   "execution_count": 34,
   "metadata": {
    "collapsed": false
   },
   "outputs": [
    {
     "data": {
      "text/plain": [
       "array([[1, 2],\n",
       "       [2, 3],\n",
       "       [3, 4]])"
      ]
     },
     "execution_count": 34,
     "metadata": {},
     "output_type": "execute_result"
    }
   ],
   "source": [
    "a = np.array((1,2,3))\n",
    "b = np.array((2,3,4))\n",
    "c = np.column_stack((a,b))\n",
    "c"
   ]
  },
  {
   "cell_type": "code",
   "execution_count": 35,
   "metadata": {
    "collapsed": false
   },
   "outputs": [
    {
     "data": {
      "text/plain": [
       "array([[1, 2, 1],\n",
       "       [2, 3, 2],\n",
       "       [3, 4, 3]])"
      ]
     },
     "execution_count": 35,
     "metadata": {},
     "output_type": "execute_result"
    }
   ],
   "source": [
    "d = np.column_stack((c, a))\n",
    "d"
   ]
  },
  {
   "cell_type": "code",
   "execution_count": 295,
   "metadata": {
    "collapsed": true
   },
   "outputs": [],
   "source": [
    "?DecisionTreeClassifier()"
   ]
  },
  {
   "cell_type": "code",
   "execution_count": null,
   "metadata": {
    "collapsed": true
   },
   "outputs": [],
   "source": []
  }
 ],
 "metadata": {
  "kernelspec": {
   "display_name": "Python [default]",
   "language": "python",
   "name": "python3"
  },
  "language_info": {
   "codemirror_mode": {
    "name": "ipython",
    "version": 3
   },
   "file_extension": ".py",
   "mimetype": "text/x-python",
   "name": "python",
   "nbconvert_exporter": "python",
   "pygments_lexer": "ipython3",
   "version": "3.5.2"
  }
 },
 "nbformat": 4,
 "nbformat_minor": 2
}
